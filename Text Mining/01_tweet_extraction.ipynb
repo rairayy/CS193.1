{
 "cells": [
  {
   "cell_type": "markdown",
   "metadata": {},
   "source": [
    "# Tweet extraction \n",
    "\n",
    "Hello everyone! This notebook will discuss the `Twitter API`, `Tweepy`, and `TextBlob`. The `Tweepy` package is used to access the `Twitter API` and gather public tweets. We will also be using `TextBlob` to preprocess our tweets for later text analysis. "
   ]
  },
  {
   "cell_type": "code",
   "execution_count": null,
   "metadata": {
    "collapsed": true
   },
   "outputs": [],
   "source": [
    "import tweepy\n",
    "import pandas as pd"
   ]
  },
  {
   "cell_type": "markdown",
   "metadata": {},
   "source": [
    "### Twitter API\n",
    "The `Twitter API` is an application programming interface that allows programmers to interact with Twitter. To access it, users are required to secure a `Twitter Developer Account` and a `Twitter App`.\n",
    "\n",
    "Once both are secured, the user will have access to their assigned application keys. There are keys provided below. "
   ]
  },
  {
   "cell_type": "code",
   "execution_count": null,
   "metadata": {
    "collapsed": true
   },
   "outputs": [],
   "source": [
    "# Application keys\n",
    "consumer_key = 'VpyTYjQp1p4RH5HLBESCQQYBe'\n",
    "consumer_key_secret = 'ggKmMrIz5Hw7xmR4eskK93MoHvaX33kM6npShNGggP0XayNObo'\n",
    "\n",
    "row1_consumer_key = 'ryxIRRxFIB3UE6DftqDVBFVIa'\n",
    "row1_consumer_key_secret = '5Nn7bHCn3V6JNJyJlGZ1v4xKuXjnnSypRrYMCA0bmYZBj0IpMP'\n",
    "\n",
    "row2_consumer_key = 'kqVi6r1TlPvZqdDwv0Gx0g8b0'\n",
    "row2_consumer_key_secret = ''\n",
    "\n",
    "row3_consumer_key = 'fkirrtsfNYN2y4WxYj1R1OsFG'\n",
    "row3_consumer_key_secret = 'kxr1YhZ9SPtpi1ZCirMBkL4yCSZMEjTRWXw31bdJoLshtrhRua'\n",
    "\n",
    "access_token = ''\n",
    "access_token_secret = ''"
   ]
  },
  {
   "cell_type": "code",
   "execution_count": null,
   "metadata": {},
   "outputs": [],
   "source": [
    "def create_api(consumer_key, consumer_key_secret):\n",
    "    \"\"\"\n",
    "    Creates an API instance with the provided access tokens\n",
    "    \"\"\"\n",
    "    auth = tweepy.OAuthHandler(consumer_key, consumer_key_secret)\n",
    "    auth.set_access_token(access_token, access_token_secret)\n",
    "    api = tweepy.API(auth)\n",
    "    return api"
   ]
  },
  {
   "cell_type": "code",
   "execution_count": null,
   "metadata": {},
   "outputs": [],
   "source": [
    "def search_tweets(api, query, ignore_rt=False, max_tweets=1000, lang='en'):\n",
    "    \"\"\"\n",
    "    Searches publi tweets given the API, query, and other optional parameters\n",
    "    \"\"\"\n",
    "    if ignore_rt:\n",
    "        query = query + ' -filter:retweets'\n",
    "    search = tweepy.Cursor(api.search, 'apple', lang=lang).items(max_tweets)\n",
    "    print(\"Downloaded {0} tweets\".format(max_tweets))\n",
    "    return search"
   ]
  },
  {
   "cell_type": "code",
   "execution_count": null,
   "metadata": {},
   "outputs": [],
   "source": [
    "def search_to_df(search_results):\n",
    "    \"\"\"\n",
    "    Transform search results into a Pandas dataframe\n",
    "    \"\"\"\n",
    "    tweets = [[t.id, t.user.screen_name, t.created_at, t.text] for t in search_results]\n",
    "    tweets_df = pd.DataFrame(tweets, columns=['id', 'handle', 'created_at', 'text'])\n",
    "    return tweets_df"
   ]
  },
  {
   "cell_type": "code",
   "execution_count": null,
   "metadata": {},
   "outputs": [],
   "source": [
    "# Extract tweets\n",
    "api = create_api(consumer_key, consumer_key_secret)\n",
    "search_results = search_tweets(api, 'apple', ignore_rt=True)\n",
    "tweets = search_to_df(search_results)\n",
    "tweets.head()"
   ]
  },
  {
   "cell_type": "code",
   "execution_count": null,
   "metadata": {},
   "outputs": [],
   "source": [
    "# Export the tweets into CSV\n",
    "tweets.to_csv('tweets.csv', index=False)"
   ]
  }
 ],
 "metadata": {
  "kernelspec": {
   "display_name": "Python 3",
   "language": "python",
   "name": "python3"
  },
  "language_info": {
   "codemirror_mode": {
    "name": "ipython",
    "version": 3
   },
   "file_extension": ".py",
   "mimetype": "text/x-python",
   "name": "python",
   "nbconvert_exporter": "python",
   "pygments_lexer": "ipython3",
   "version": "3.7.2"
  }
 },
 "nbformat": 4,
 "nbformat_minor": 2
}
