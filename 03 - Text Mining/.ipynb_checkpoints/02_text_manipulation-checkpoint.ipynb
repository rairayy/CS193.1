{
 "cells": [
  {
   "cell_type": "markdown",
   "metadata": {},
   "source": [
    "# Text manipulation\n",
    "\n",
    "Hello everyone! For this section, we will be learning how to manipulate text data using `TextBlob` and `Scikit-learn`. In particular, we will be using these packages to clean, format, and transform our text data into simpler text and vector representations. "
   ]
  },
  {
   "cell_type": "code",
   "execution_count": 1,
   "metadata": {},
   "outputs": [],
   "source": [
    "import pickle\n",
    "import numpy as np\n",
    "import pandas as pd\n",
    "import matplotlib.pyplot as plt\n",
    "from nltk.corpus import stopwords\n",
    "from textblob import TextBlob as tb\n",
    "from sklearn.feature_extraction.text import CountVectorizer, TfidfVectorizer\n",
    "stopwords = stopwords.words('english')"
   ]
  },
  {
   "cell_type": "code",
   "execution_count": 2,
   "metadata": {},
   "outputs": [
    {
     "data": {
      "text/html": [
       "<div>\n",
       "<style scoped>\n",
       "    .dataframe tbody tr th:only-of-type {\n",
       "        vertical-align: middle;\n",
       "    }\n",
       "\n",
       "    .dataframe tbody tr th {\n",
       "        vertical-align: top;\n",
       "    }\n",
       "\n",
       "    .dataframe thead th {\n",
       "        text-align: right;\n",
       "    }\n",
       "</style>\n",
       "<table border=\"1\" class=\"dataframe\">\n",
       "  <thead>\n",
       "    <tr style=\"text-align: right;\">\n",
       "      <th></th>\n",
       "      <th>id</th>\n",
       "      <th>handle</th>\n",
       "      <th>created_at</th>\n",
       "      <th>text</th>\n",
       "    </tr>\n",
       "  </thead>\n",
       "  <tbody>\n",
       "    <tr>\n",
       "      <th>0</th>\n",
       "      <td>1141553866938261505</td>\n",
       "      <td>DoodleSpooks</td>\n",
       "      <td>2019-06-20 03:50:25</td>\n",
       "      <td>RT @BirdKeeperToby: The Galar region, new Poke...</td>\n",
       "    </tr>\n",
       "    <tr>\n",
       "      <th>1</th>\n",
       "      <td>1141552242912309248</td>\n",
       "      <td>EZDBud</td>\n",
       "      <td>2019-06-20 03:43:58</td>\n",
       "      <td>@JammerHighwind We needed more wooloo in our l...</td>\n",
       "    </tr>\n",
       "    <tr>\n",
       "      <th>2</th>\n",
       "      <td>1141551914066333696</td>\n",
       "      <td>Jay_Jitters</td>\n",
       "      <td>2019-06-20 03:42:39</td>\n",
       "      <td>RT @Xephia: A wooloo cloud ☁️🌱 https://t.co/WS...</td>\n",
       "    </tr>\n",
       "    <tr>\n",
       "      <th>3</th>\n",
       "      <td>1141551873297649669</td>\n",
       "      <td>toboldlylaura</td>\n",
       "      <td>2019-06-20 03:42:30</td>\n",
       "      <td>Friend: I can’t sleep :(\\r\\nMe: want to count ...</td>\n",
       "    </tr>\n",
       "    <tr>\n",
       "      <th>4</th>\n",
       "      <td>1141551868163829760</td>\n",
       "      <td>Jay_Jitters</td>\n",
       "      <td>2019-06-20 03:42:29</td>\n",
       "      <td>RT @Phoelion: Woohoo! It’s Wooloo!! 💖 https://...</td>\n",
       "    </tr>\n",
       "  </tbody>\n",
       "</table>\n",
       "</div>"
      ],
      "text/plain": [
       "                    id         handle           created_at  \\\n",
       "0  1141553866938261505   DoodleSpooks  2019-06-20 03:50:25   \n",
       "1  1141552242912309248         EZDBud  2019-06-20 03:43:58   \n",
       "2  1141551914066333696    Jay_Jitters  2019-06-20 03:42:39   \n",
       "3  1141551873297649669  toboldlylaura  2019-06-20 03:42:30   \n",
       "4  1141551868163829760    Jay_Jitters  2019-06-20 03:42:29   \n",
       "\n",
       "                                                text  \n",
       "0  RT @BirdKeeperToby: The Galar region, new Poke...  \n",
       "1  @JammerHighwind We needed more wooloo in our l...  \n",
       "2  RT @Xephia: A wooloo cloud ☁️🌱 https://t.co/WS...  \n",
       "3  Friend: I can’t sleep :(\\r\\nMe: want to count ...  \n",
       "4  RT @Phoelion: Woohoo! It’s Wooloo!! 💖 https://...  "
      ]
     },
     "execution_count": 2,
     "metadata": {},
     "output_type": "execute_result"
    }
   ],
   "source": [
    "# Read our tweets from the previously created CSV\n",
    "tweets = pd.read_csv('out/tweets.csv', index_col=None, header=0)\n",
    "tweets.head()"
   ]
  },
  {
   "cell_type": "markdown",
   "metadata": {},
   "source": [
    "### Text cleaning\n",
    "When cleaning our data, we want to remove unnecessary characters such as punctuations and whitespace. This is so that we can focus solely on the terms found in the text"
   ]
  },
  {
   "cell_type": "code",
   "execution_count": 3,
   "metadata": {},
   "outputs": [],
   "source": [
    "def clean_tweets(tweets):\n",
    "    \"\"\"\n",
    "    Replaces empty tweets, replaces text with lower case characters,\n",
    "    remove special characters and RTs, remove leading and trailing\n",
    "    whitespaces, and remove stopwords.\n",
    "    \"\"\"\n",
    "    tweets['cleaned_text'] = tweets['text'].fillna('')\n",
    "    tweets['cleaned_text'] = tweets['cleaned_text'].str.lower()\n",
    "    tweets['cleaned_text'] = tweets['cleaned_text'].str.replace(r'(@[A-Za-z0-9]+)|([^0-9A-Za-z \\t])|(\\w+:\\/\\/\\S+)|rt|\\d+', '')\n",
    "    tweets['cleaned_text'] = tweets['cleaned_text'].str.replace(r'^\\s+|\\s+$', '') \n",
    "    tweets['cleaned_text'] = tweets['cleaned_text'].apply(lambda x: ' '.join([w for w in x.split() if w not in (stopwords)]))\n",
    "    return tweets"
   ]
  },
  {
   "cell_type": "code",
   "execution_count": 4,
   "metadata": {},
   "outputs": [
    {
     "data": {
      "text/html": [
       "<div>\n",
       "<style scoped>\n",
       "    .dataframe tbody tr th:only-of-type {\n",
       "        vertical-align: middle;\n",
       "    }\n",
       "\n",
       "    .dataframe tbody tr th {\n",
       "        vertical-align: top;\n",
       "    }\n",
       "\n",
       "    .dataframe thead th {\n",
       "        text-align: right;\n",
       "    }\n",
       "</style>\n",
       "<table border=\"1\" class=\"dataframe\">\n",
       "  <thead>\n",
       "    <tr style=\"text-align: right;\">\n",
       "      <th></th>\n",
       "      <th>id</th>\n",
       "      <th>handle</th>\n",
       "      <th>created_at</th>\n",
       "      <th>text</th>\n",
       "      <th>cleaned_text</th>\n",
       "    </tr>\n",
       "  </thead>\n",
       "  <tbody>\n",
       "    <tr>\n",
       "      <th>0</th>\n",
       "      <td>1141553866938261505</td>\n",
       "      <td>DoodleSpooks</td>\n",
       "      <td>2019-06-20 03:50:25</td>\n",
       "      <td>RT @BirdKeeperToby: The Galar region, new Poke...</td>\n",
       "      <td>galar region new pokemon dreadnaw wooloo grook...</td>\n",
       "    </tr>\n",
       "    <tr>\n",
       "      <th>1</th>\n",
       "      <td>1141552242912309248</td>\n",
       "      <td>EZDBud</td>\n",
       "      <td>2019-06-20 03:43:58</td>\n",
       "      <td>@JammerHighwind We needed more wooloo in our l...</td>\n",
       "      <td>needed wooloo lives</td>\n",
       "    </tr>\n",
       "    <tr>\n",
       "      <th>2</th>\n",
       "      <td>1141551914066333696</td>\n",
       "      <td>Jay_Jitters</td>\n",
       "      <td>2019-06-20 03:42:39</td>\n",
       "      <td>RT @Xephia: A wooloo cloud ☁️🌱 https://t.co/WS...</td>\n",
       "      <td>wooloo cloud</td>\n",
       "    </tr>\n",
       "    <tr>\n",
       "      <th>3</th>\n",
       "      <td>1141551873297649669</td>\n",
       "      <td>toboldlylaura</td>\n",
       "      <td>2019-06-20 03:42:30</td>\n",
       "      <td>Friend: I can’t sleep :(\\r\\nMe: want to count ...</td>\n",
       "      <td>friend cant sleep want count sheepme proceeds ...</td>\n",
       "    </tr>\n",
       "    <tr>\n",
       "      <th>4</th>\n",
       "      <td>1141551868163829760</td>\n",
       "      <td>Jay_Jitters</td>\n",
       "      <td>2019-06-20 03:42:29</td>\n",
       "      <td>RT @Phoelion: Woohoo! It’s Wooloo!! 💖 https://...</td>\n",
       "      <td>woohoo wooloo</td>\n",
       "    </tr>\n",
       "  </tbody>\n",
       "</table>\n",
       "</div>"
      ],
      "text/plain": [
       "                    id         handle           created_at  \\\n",
       "0  1141553866938261505   DoodleSpooks  2019-06-20 03:50:25   \n",
       "1  1141552242912309248         EZDBud  2019-06-20 03:43:58   \n",
       "2  1141551914066333696    Jay_Jitters  2019-06-20 03:42:39   \n",
       "3  1141551873297649669  toboldlylaura  2019-06-20 03:42:30   \n",
       "4  1141551868163829760    Jay_Jitters  2019-06-20 03:42:29   \n",
       "\n",
       "                                                text  \\\n",
       "0  RT @BirdKeeperToby: The Galar region, new Poke...   \n",
       "1  @JammerHighwind We needed more wooloo in our l...   \n",
       "2  RT @Xephia: A wooloo cloud ☁️🌱 https://t.co/WS...   \n",
       "3  Friend: I can’t sleep :(\\r\\nMe: want to count ...   \n",
       "4  RT @Phoelion: Woohoo! It’s Wooloo!! 💖 https://...   \n",
       "\n",
       "                                        cleaned_text  \n",
       "0  galar region new pokemon dreadnaw wooloo grook...  \n",
       "1                                needed wooloo lives  \n",
       "2                                       wooloo cloud  \n",
       "3  friend cant sleep want count sheepme proceeds ...  \n",
       "4                                      woohoo wooloo  "
      ]
     },
     "execution_count": 4,
     "metadata": {},
     "output_type": "execute_result"
    }
   ],
   "source": [
    "# Clean tweets\n",
    "cleaned_tweets = clean_tweets(tweets)\n",
    "cleaned_tweets.head()"
   ]
  },
  {
   "cell_type": "code",
   "execution_count": 5,
   "metadata": {},
   "outputs": [],
   "source": [
    "# Export the cleaned tweets into CSV\n",
    "cleaned_tweets.to_csv('out/cleaned_tweets.csv', index=False)"
   ]
  },
  {
   "cell_type": "markdown",
   "metadata": {},
   "source": [
    "### Text representation\n",
    "We also want to be able to transform our data from terms into numerals where we can apply quantitative techniques.\n",
    "\n",
    "1. **Document-term matrix**: occurence of words across documents\n",
    "2. **N-gram matrix**: occurence of n-grams (phrases of n length) accross documents\n",
    "3. **TFIDF matrix**: term frequency adjusted by the rarity of the in documents\n"
   ]
  },
  {
   "cell_type": "code",
   "execution_count": 1,
   "metadata": {},
   "outputs": [],
   "source": [
    "def tweets_to_dtm(tweets):\n",
    "    tweets = tweets['cleaned_text']\n",
    "    vectorizer = CountVectorizer(max_features=2000)\n",
    "    dtm = vectorizer.fit_transform(tweets)\n",
    "    pickle.dump(vectorizer, open('out/dtm.pk', 'wb'))\n",
    "    return dtm, vectorizer\n",
    "\n",
    "def tweets_to_ngram(tweets, n=2):\n",
    "    tweets = tweets['cleaned_text']\n",
    "    vectorizer = CountVectorizer(\n",
    "        ngram_range=(n, n),\n",
    "        token_pattern=r'\\b\\w+\\b',\n",
    "        min_df=1,\n",
    "        max_features=2000)\n",
    "    dtm = vectorizer.fit_transform(tweets)\n",
    "    pickle.dump(vectorizer, open('out/ngram.pk', 'wb'))\n",
    "    return dtm, vectorizer\n",
    "\n",
    "def tweets_to_tfidf(tweets):\n",
    "    tweets = tweets['cleaned_text']\n",
    "    vectorizer = TfidfVectorizer(max_features=2000)\n",
    "    tfidf = vectorizer.fit_transform(tweets)\n",
    "    pickle.dump(vectorizer, open('out/tfidf.pk', 'wb'))\n",
    "    return tfidf, vectorizer"
   ]
  },
  {
   "cell_type": "code",
   "execution_count": 7,
   "metadata": {},
   "outputs": [
    {
     "name": "stdout",
     "output_type": "stream",
     "text": [
      "DTM shape: (1000, 1334)\n"
     ]
    },
    {
     "data": {
      "text/plain": [
       "[('galar', 435),\n",
       " ('region', 906),\n",
       " ('new', 736),\n",
       " ('pokemon', 835),\n",
       " ('dreadnaw', 311)]"
      ]
     },
     "execution_count": 7,
     "metadata": {},
     "output_type": "execute_result"
    }
   ],
   "source": [
    "# Get document-term matrix\n",
    "dtm, dtm_v = tweets_to_dtm(cleaned_tweets)\n",
    "print('DTM shape:', dtm.toarray().shape)\n",
    "list(dtm_v.vocabulary_.items())[0:5]"
   ]
  },
  {
   "cell_type": "code",
   "execution_count": 8,
   "metadata": {},
   "outputs": [
    {
     "name": "stdout",
     "output_type": "stream",
     "text": [
      "Ngram matrix shape: (1000, 2000)\n"
     ]
    },
    {
     "data": {
      "text/plain": [
       "[('galar region', 572),\n",
       " ('region new', 1221),\n",
       " ('new pokemon', 959),\n",
       " ('pokemon dreadnaw', 1095),\n",
       " ('dreadnaw wooloo', 413)]"
      ]
     },
     "execution_count": 8,
     "metadata": {},
     "output_type": "execute_result"
    }
   ],
   "source": [
    "# Get ngram matrix\n",
    "ngram, ngram_v = tweets_to_ngram(cleaned_tweets, n=2)\n",
    "print('Ngram matrix shape:', ngram.toarray().shape)\n",
    "list(ngram_v.vocabulary_.items())[0:5]"
   ]
  },
  {
   "cell_type": "code",
   "execution_count": 9,
   "metadata": {},
   "outputs": [
    {
     "name": "stdout",
     "output_type": "stream",
     "text": [
      "TFIDF matrix shape: (1000, 1334)\n"
     ]
    },
    {
     "data": {
      "text/plain": [
       "[('galar', 435),\n",
       " ('region', 906),\n",
       " ('new', 736),\n",
       " ('pokemon', 835),\n",
       " ('dreadnaw', 311)]"
      ]
     },
     "execution_count": 9,
     "metadata": {},
     "output_type": "execute_result"
    }
   ],
   "source": [
    "# Get TFIDF matrix\n",
    "tfidf, tfidf_v = tweets_to_tfidf(cleaned_tweets)\n",
    "print('TFIDF matrix shape:', tfidf.toarray().shape)\n",
    "list(tfidf_v.vocabulary_.items())[0:5]"
   ]
  },
  {
   "cell_type": "markdown",
   "metadata": {},
   "source": [
    "### Term frequencies\n",
    "We can convert our text metrices back into a list terms and their accompanying frequency.  "
   ]
  },
  {
   "cell_type": "code",
   "execution_count": 10,
   "metadata": {},
   "outputs": [],
   "source": [
    "def vector_to_frequency(vector, vectorizer):\n",
    "    \"\"\"\n",
    "    Return a list of words and their corresponding occurence in the corpus\n",
    "    \"\"\"\n",
    "    total = vector.sum(axis=0)\n",
    "    frequency = [(w, total[0, i]) for w, i in vectorizer.vocabulary_.items()]\n",
    "    frequency = pd.DataFrame(frequency, columns=['term', 'frequency'])\n",
    "    frequency = frequency.sort_values(by='frequency', ascending=False).reset_index(drop=True)\n",
    "    return frequency"
   ]
  },
  {
   "cell_type": "code",
   "execution_count": 11,
   "metadata": {},
   "outputs": [
    {
     "data": {
      "text/html": [
       "<div>\n",
       "<style scoped>\n",
       "    .dataframe tbody tr th:only-of-type {\n",
       "        vertical-align: middle;\n",
       "    }\n",
       "\n",
       "    .dataframe tbody tr th {\n",
       "        vertical-align: top;\n",
       "    }\n",
       "\n",
       "    .dataframe thead th {\n",
       "        text-align: right;\n",
       "    }\n",
       "</style>\n",
       "<table border=\"1\" class=\"dataframe\">\n",
       "  <thead>\n",
       "    <tr style=\"text-align: right;\">\n",
       "      <th></th>\n",
       "      <th>term</th>\n",
       "      <th>frequency</th>\n",
       "    </tr>\n",
       "  </thead>\n",
       "  <tbody>\n",
       "    <tr>\n",
       "      <th>0</th>\n",
       "      <td>wooloo</td>\n",
       "      <td>1045</td>\n",
       "    </tr>\n",
       "    <tr>\n",
       "      <th>1</th>\n",
       "      <td>outfits</td>\n",
       "      <td>309</td>\n",
       "    </tr>\n",
       "    <tr>\n",
       "      <th>2</th>\n",
       "      <td>sheep</td>\n",
       "      <td>198</td>\n",
       "    </tr>\n",
       "    <tr>\n",
       "      <th>3</th>\n",
       "      <td>girl</td>\n",
       "      <td>190</td>\n",
       "    </tr>\n",
       "    <tr>\n",
       "      <th>4</th>\n",
       "      <td>want</td>\n",
       "      <td>170</td>\n",
       "    </tr>\n",
       "  </tbody>\n",
       "</table>\n",
       "</div>"
      ],
      "text/plain": [
       "      term  frequency\n",
       "0   wooloo       1045\n",
       "1  outfits        309\n",
       "2    sheep        198\n",
       "3     girl        190\n",
       "4     want        170"
      ]
     },
     "execution_count": 11,
     "metadata": {},
     "output_type": "execute_result"
    }
   ],
   "source": [
    "freq_dtm = vector_to_frequency(dtm, dtm_v)\n",
    "freq_dtm.to_csv('out/frequency_dtm.csv', index=False)\n",
    "freq_dtm.head()"
   ]
  },
  {
   "cell_type": "code",
   "execution_count": 13,
   "metadata": {},
   "outputs": [
    {
     "data": {
      "text/html": [
       "<div>\n",
       "<style scoped>\n",
       "    .dataframe tbody tr th:only-of-type {\n",
       "        vertical-align: middle;\n",
       "    }\n",
       "\n",
       "    .dataframe tbody tr th {\n",
       "        vertical-align: top;\n",
       "    }\n",
       "\n",
       "    .dataframe thead th {\n",
       "        text-align: right;\n",
       "    }\n",
       "</style>\n",
       "<table border=\"1\" class=\"dataframe\">\n",
       "  <thead>\n",
       "    <tr style=\"text-align: right;\">\n",
       "      <th></th>\n",
       "      <th>term</th>\n",
       "      <th>frequency</th>\n",
       "    </tr>\n",
       "  </thead>\n",
       "  <tbody>\n",
       "    <tr>\n",
       "      <th>0</th>\n",
       "      <td>outfits sheep</td>\n",
       "      <td>155</td>\n",
       "    </tr>\n",
       "    <tr>\n",
       "      <th>1</th>\n",
       "      <td>sheep girl</td>\n",
       "      <td>155</td>\n",
       "    </tr>\n",
       "    <tr>\n",
       "      <th>2</th>\n",
       "      <td>girl wooloo</td>\n",
       "      <td>155</td>\n",
       "    </tr>\n",
       "    <tr>\n",
       "      <th>3</th>\n",
       "      <td>wooloo gossifleur</td>\n",
       "      <td>155</td>\n",
       "    </tr>\n",
       "    <tr>\n",
       "      <th>4</th>\n",
       "      <td>gossifleur fun</td>\n",
       "      <td>155</td>\n",
       "    </tr>\n",
       "  </tbody>\n",
       "</table>\n",
       "</div>"
      ],
      "text/plain": [
       "                term  frequency\n",
       "0      outfits sheep        155\n",
       "1         sheep girl        155\n",
       "2        girl wooloo        155\n",
       "3  wooloo gossifleur        155\n",
       "4     gossifleur fun        155"
      ]
     },
     "execution_count": 13,
     "metadata": {},
     "output_type": "execute_result"
    }
   ],
   "source": [
    "freq_ngram = vector_to_frequency(ngram, ngram_v)\n",
    "freq_ngram.to_csv('out/frequency_ngram.csv', index=False)\n",
    "freq_ngram.head()"
   ]
  },
  {
   "cell_type": "code",
   "execution_count": 14,
   "metadata": {},
   "outputs": [
    {
     "data": {
      "text/html": [
       "<div>\n",
       "<style scoped>\n",
       "    .dataframe tbody tr th:only-of-type {\n",
       "        vertical-align: middle;\n",
       "    }\n",
       "\n",
       "    .dataframe tbody tr th {\n",
       "        vertical-align: top;\n",
       "    }\n",
       "\n",
       "    .dataframe thead th {\n",
       "        text-align: right;\n",
       "    }\n",
       "</style>\n",
       "<table border=\"1\" class=\"dataframe\">\n",
       "  <thead>\n",
       "    <tr style=\"text-align: right;\">\n",
       "      <th></th>\n",
       "      <th>term</th>\n",
       "      <th>frequency</th>\n",
       "    </tr>\n",
       "  </thead>\n",
       "  <tbody>\n",
       "    <tr>\n",
       "      <th>0</th>\n",
       "      <td>wooloo</td>\n",
       "      <td>146.323204</td>\n",
       "    </tr>\n",
       "    <tr>\n",
       "      <th>1</th>\n",
       "      <td>outfits</td>\n",
       "      <td>94.386514</td>\n",
       "    </tr>\n",
       "    <tr>\n",
       "      <th>2</th>\n",
       "      <td>sheep</td>\n",
       "      <td>52.128199</td>\n",
       "    </tr>\n",
       "    <tr>\n",
       "      <th>3</th>\n",
       "      <td>girl</td>\n",
       "      <td>51.715751</td>\n",
       "    </tr>\n",
       "    <tr>\n",
       "      <th>4</th>\n",
       "      <td>want</td>\n",
       "      <td>48.590284</td>\n",
       "    </tr>\n",
       "  </tbody>\n",
       "</table>\n",
       "</div>"
      ],
      "text/plain": [
       "      term   frequency\n",
       "0   wooloo  146.323204\n",
       "1  outfits   94.386514\n",
       "2    sheep   52.128199\n",
       "3     girl   51.715751\n",
       "4     want   48.590284"
      ]
     },
     "execution_count": 14,
     "metadata": {},
     "output_type": "execute_result"
    }
   ],
   "source": [
    "freq_tfidf = vector_to_frequency(tfidf, tfidf_v)\n",
    "freq_tfidf.to_csv('out/frequency_tfidf.csv', index=False)\n",
    "freq_tfidf.head()"
   ]
  },
  {
   "cell_type": "code",
   "execution_count": null,
   "metadata": {},
   "outputs": [],
   "source": []
  }
 ],
 "metadata": {
  "kernelspec": {
   "display_name": "Python 3",
   "language": "python",
   "name": "python3"
  },
  "language_info": {
   "codemirror_mode": {
    "name": "ipython",
    "version": 3
   },
   "file_extension": ".py",
   "mimetype": "text/x-python",
   "name": "python",
   "nbconvert_exporter": "python",
   "pygments_lexer": "ipython3",
   "version": "3.6.2"
  }
 },
 "nbformat": 4,
 "nbformat_minor": 2
}
