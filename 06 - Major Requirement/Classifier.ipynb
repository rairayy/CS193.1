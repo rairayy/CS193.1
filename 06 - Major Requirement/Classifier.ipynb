{
 "cells": [
  {
   "cell_type": "code",
   "execution_count": 3,
   "metadata": {},
   "outputs": [],
   "source": [
    "import numpy as np # linear algebra\n",
    "import pandas as pd # data processing, CSV file I/O (e.g. pd.read_csv)\n",
    "\n",
    "from keras.models import Sequential\n",
    "from keras.layers import Dense, Embedding, LSTM, SpatialDropout1D\n",
    "from keras.preprocessing.sequence import pad_sequences\n",
    "from sklearn.model_selection import train_test_split\n",
    "from keras.utils.np_utils import to_categorical\n",
    "from keras.callbacks import EarlyStopping\n",
    "\n",
    "import gensim\n",
    "from gensim.models.doc2vec import Doc2Vec, TaggedDocument\n",
    "from keras.layers import Flatten"
   ]
  },
  {
   "cell_type": "code",
   "execution_count": 4,
   "metadata": {},
   "outputs": [
    {
     "data": {
      "text/html": [
       "<div>\n",
       "<style scoped>\n",
       "    .dataframe tbody tr th:only-of-type {\n",
       "        vertical-align: middle;\n",
       "    }\n",
       "\n",
       "    .dataframe tbody tr th {\n",
       "        vertical-align: top;\n",
       "    }\n",
       "\n",
       "    .dataframe thead th {\n",
       "        text-align: right;\n",
       "    }\n",
       "</style>\n",
       "<table border=\"1\" class=\"dataframe\">\n",
       "  <thead>\n",
       "    <tr style=\"text-align: right;\">\n",
       "      <th></th>\n",
       "      <th>labels</th>\n",
       "      <th>body</th>\n",
       "      <th>parent</th>\n",
       "      <th>score</th>\n",
       "    </tr>\n",
       "  </thead>\n",
       "  <tbody>\n",
       "    <tr>\n",
       "      <th>0</th>\n",
       "      <td>supporting</td>\n",
       "      <td>no question want thank post topic birth contro...</td>\n",
       "      <td>updated september scroll downhi lengthy post c...</td>\n",
       "      <td>31</td>\n",
       "    </tr>\n",
       "    <tr>\n",
       "      <th>1</th>\n",
       "      <td>supporting</td>\n",
       "      <td>holy shit thank much someone recently turn sup...</td>\n",
       "      <td>updated september scroll downhi lengthy post c...</td>\n",
       "      <td>7</td>\n",
       "    </tr>\n",
       "  </tbody>\n",
       "</table>\n",
       "</div>"
      ],
      "text/plain": [
       "       labels                                               body  \\\n",
       "0  supporting  no question want thank post topic birth contro...   \n",
       "1  supporting  holy shit thank much someone recently turn sup...   \n",
       "\n",
       "                                              parent  score  \n",
       "0  updated september scroll downhi lengthy post c...     31  \n",
       "1  updated september scroll downhi lengthy post c...      7  "
      ]
     },
     "execution_count": 4,
     "metadata": {},
     "output_type": "execute_result"
    }
   ],
   "source": [
    "data = pd.read_csv('labelled_dataset.csv',index_col=0)\n",
    "data = data[['labels','body','parent','score']]\n",
    "data.head(2)"
   ]
  },
  {
   "cell_type": "markdown",
   "metadata": {},
   "source": [
    "## Checking Label Distribution and Assigning Weights"
   ]
  },
  {
   "cell_type": "code",
   "execution_count": 5,
   "metadata": {},
   "outputs": [
    {
     "data": {
      "text/plain": [
       "commenting     614\n",
       "supporting     299\n",
       "denying        137\n",
       "questioning    105\n",
       "Name: labels, dtype: int64"
      ]
     },
     "execution_count": 5,
     "metadata": {},
     "output_type": "execute_result"
    }
   ],
   "source": [
    "data.labels.value_counts()"
   ]
  },
  {
   "cell_type": "code",
   "execution_count": 6,
   "metadata": {},
   "outputs": [
    {
     "data": {
      "text/plain": [
       "<matplotlib.axes._subplots.AxesSubplot at 0x12af44cabe0>"
      ]
     },
     "execution_count": 6,
     "metadata": {},
     "output_type": "execute_result"
    }
   ],
   "source": [
    "data.labels.value_counts().plot(kind='bar')"
   ]
  },
  {
   "cell_type": "code",
   "execution_count": 7,
   "metadata": {},
   "outputs": [
    {
     "data": {
      "text/html": [
       "<div>\n",
       "<style scoped>\n",
       "    .dataframe tbody tr th:only-of-type {\n",
       "        vertical-align: middle;\n",
       "    }\n",
       "\n",
       "    .dataframe tbody tr th {\n",
       "        vertical-align: top;\n",
       "    }\n",
       "\n",
       "    .dataframe thead th {\n",
       "        text-align: right;\n",
       "    }\n",
       "</style>\n",
       "<table border=\"1\" class=\"dataframe\">\n",
       "  <thead>\n",
       "    <tr style=\"text-align: right;\">\n",
       "      <th></th>\n",
       "      <th>labels</th>\n",
       "      <th>body</th>\n",
       "      <th>parent</th>\n",
       "      <th>score</th>\n",
       "    </tr>\n",
       "  </thead>\n",
       "  <tbody>\n",
       "    <tr>\n",
       "      <th>0</th>\n",
       "      <td>0</td>\n",
       "      <td>no question want thank post topic birth contro...</td>\n",
       "      <td>updated september scroll downhi lengthy post c...</td>\n",
       "      <td>31</td>\n",
       "    </tr>\n",
       "    <tr>\n",
       "      <th>1</th>\n",
       "      <td>0</td>\n",
       "      <td>holy shit thank much someone recently turn sup...</td>\n",
       "      <td>updated september scroll downhi lengthy post c...</td>\n",
       "      <td>7</td>\n",
       "    </tr>\n",
       "  </tbody>\n",
       "</table>\n",
       "</div>"
      ],
      "text/plain": [
       "   labels                                               body  \\\n",
       "0       0  no question want thank post topic birth contro...   \n",
       "1       0  holy shit thank much someone recently turn sup...   \n",
       "\n",
       "                                              parent  score  \n",
       "0  updated september scroll downhi lengthy post c...     31  \n",
       "1  updated september scroll downhi lengthy post c...      7  "
      ]
     },
     "execution_count": 7,
     "metadata": {},
     "output_type": "execute_result"
    }
   ],
   "source": [
    "# turning into integers\n",
    "data.loc[data['labels'] == 'supporting', 'labels'] = 0\n",
    "data.loc[data['labels'] == 'denying', 'labels'] = 1\n",
    "data.loc[data['labels'] == 'questioning', 'labels'] = 2\n",
    "data.loc[data['labels'] == 'commenting', 'labels'] = 3\n",
    "data.head(2)"
   ]
  },
  {
   "cell_type": "code",
   "execution_count": 8,
   "metadata": {},
   "outputs": [
    {
     "data": {
      "text/plain": [
       "array([[1., 0., 0., 0.],\n",
       "       [1., 0., 0., 0.],\n",
       "       [0., 0., 0., 1.],\n",
       "       ...,\n",
       "       [0., 0., 0., 1.],\n",
       "       [0., 0., 0., 1.],\n",
       "       [0., 0., 0., 1.]], dtype=float32)"
      ]
     },
     "execution_count": 8,
     "metadata": {},
     "output_type": "execute_result"
    }
   ],
   "source": [
    "# one-hot encoding\n",
    "labels = to_categorical(data['labels'], num_classes=4)\n",
    "labels"
   ]
  },
  {
   "cell_type": "markdown",
   "metadata": {},
   "source": [
    "## Vectorizing with Doc2Vec"
   ]
  },
  {
   "cell_type": "code",
   "execution_count": 9,
   "metadata": {},
   "outputs": [],
   "source": [
    "from gensim.test.utils import common_texts\n",
    "from gensim.models.doc2vec import Doc2Vec, TaggedDocument\n",
    "import numpy as np\n",
    "\n",
    "# documents = [TaggedDocument(doc, [i]) for i, doc in enumerate(common_texts)]\n",
    "comments = [TaggedDocument(row[1][2], [index]) for index, row in data.iterrows()]\n",
    "source = [TaggedDocument(row[1][3], [index]) for index, row in data.iterrows()]"
   ]
  },
  {
   "cell_type": "code",
   "execution_count": 10,
   "metadata": {},
   "outputs": [
    {
     "name": "stderr",
     "output_type": "stream",
     "text": [
      "WARNING: Logging before flag parsing goes to stderr.\n",
      "W0722 16:36:21.566571  1088 base_any2vec.py:723] consider setting layer size to a multiple of 4 for greater performance\n",
      "W0722 16:36:21.567756  1088 doc2vec.py:1314] Each 'words' should be a list of words (usually unicode strings). First 'words' here is instead plain <class 'str'>.\n",
      "W0722 16:36:21.725166  1088 base_any2vec.py:1386] under 10 jobs per worker: consider setting a smaller `batch_words' for smoother alpha decay\n",
      "W0722 16:36:21.726678  1088 base_any2vec.py:723] consider setting layer size to a multiple of 4 for greater performance\n",
      "W0722 16:36:21.727141  1088 doc2vec.py:1314] Each 'words' should be a list of words (usually unicode strings). First 'words' here is instead plain <class 'str'>.\n",
      "W0722 16:36:21.855008  1088 base_any2vec.py:1386] under 10 jobs per worker: consider setting a smaller `batch_words' for smoother alpha decay\n"
     ]
    }
   ],
   "source": [
    "model_comments = Doc2Vec(comments, vector_size=5, window=2, min_count=1, workers=4)\n",
    "model_source = Doc2Vec(source, vector_size=5, window=2, min_count=1, workers=4)"
   ]
  },
  {
   "cell_type": "code",
   "execution_count": 11,
   "metadata": {},
   "outputs": [],
   "source": [
    "final_vec_list = [\n",
    "    np.append(model_comments.docvecs[i], model_source.docvecs[i])\n",
    "    for i in range(len(model_comments.docvecs))\n",
    "]"
   ]
  },
  {
   "cell_type": "code",
   "execution_count": 12,
   "metadata": {},
   "outputs": [],
   "source": [
    "np_vec_list = np.asarray(final_vec_list)"
   ]
  },
  {
   "cell_type": "code",
   "execution_count": 185,
   "metadata": {},
   "outputs": [],
   "source": [
    "X_train, X_test, Y_train, Y_test = train_test_split(np_vec_list, labels, test_size=0.2)"
   ]
  },
  {
   "cell_type": "markdown",
   "metadata": {},
   "source": [
    "## Modeling with LSTM"
   ]
  },
  {
   "cell_type": "code",
   "execution_count": 186,
   "metadata": {},
   "outputs": [
    {
     "data": {
      "text/plain": [
       "(1155, 4)"
      ]
     },
     "execution_count": 186,
     "metadata": {},
     "output_type": "execute_result"
    }
   ],
   "source": [
    "data.shape"
   ]
  },
  {
   "cell_type": "code",
   "execution_count": 187,
   "metadata": {},
   "outputs": [
    {
     "data": {
      "text/plain": [
       "(924, 10)"
      ]
     },
     "execution_count": 187,
     "metadata": {},
     "output_type": "execute_result"
    }
   ],
   "source": [
    "X_train.shape"
   ]
  },
  {
   "cell_type": "code",
   "execution_count": 188,
   "metadata": {},
   "outputs": [],
   "source": [
    "Y_train = np.asarray(Y_train)"
   ]
  },
  {
   "cell_type": "code",
   "execution_count": 189,
   "metadata": {},
   "outputs": [],
   "source": [
    "Y_test = np.asarray(Y_test)"
   ]
  },
  {
   "cell_type": "code",
   "execution_count": 190,
   "metadata": {},
   "outputs": [],
   "source": [
    "X_train = np.reshape(X_train, (X_train.shape[0], 1, X_train.shape[1]))\n",
    "X_test = np.reshape(X_test, (X_test.shape[0], 1, X_test.shape[1]))"
   ]
  },
  {
   "cell_type": "code",
   "execution_count": 191,
   "metadata": {},
   "outputs": [],
   "source": [
    "# label weights\n",
    "\n",
    "c = 12.2\n",
    "s = 22.9\n",
    "d = 40.1\n",
    "q = 50.3"
   ]
  },
  {
   "cell_type": "code",
   "execution_count": 192,
   "metadata": {},
   "outputs": [
    {
     "name": "stderr",
     "output_type": "stream",
     "text": [
      "c:\\users\\limri\\appdata\\local\\programs\\python\\python37\\lib\\site-packages\\ipykernel_launcher.py:7: UserWarning: Update your `Dense` call to the Keras 2 API: `Dense(activation=\"softmax\", units=4)`\n",
      "  import sys\n"
     ]
    },
    {
     "name": "stdout",
     "output_type": "stream",
     "text": [
      "Train on 739 samples, validate on 185 samples\n",
      "Epoch 1/100\n",
      "739/739 [==============================] - 2s 3ms/step - loss: 30.0716 - acc: 0.3924 - val_loss: 30.9135 - val_acc: 0.5135\n",
      "Epoch 2/100\n",
      "739/739 [==============================] - 0s 54us/step - loss: 30.0376 - acc: 0.5318 - val_loss: 30.8979 - val_acc: 0.5297\n",
      "Epoch 3/100\n",
      "739/739 [==============================] - 0s 52us/step - loss: 30.0032 - acc: 0.5372 - val_loss: 30.8852 - val_acc: 0.5297\n",
      "Epoch 4/100\n",
      "739/739 [==============================] - 0s 54us/step - loss: 29.9775 - acc: 0.5372 - val_loss: 30.8741 - val_acc: 0.5297\n",
      "Epoch 5/100\n",
      "739/739 [==============================] - 0s 58us/step - loss: 29.9538 - acc: 0.5372 - val_loss: 30.8673 - val_acc: 0.5297\n",
      "Epoch 6/100\n",
      "739/739 [==============================] - 0s 63us/step - loss: 29.9282 - acc: 0.5372 - val_loss: 30.8608 - val_acc: 0.5297\n",
      "Epoch 7/100\n",
      "739/739 [==============================] - 0s 57us/step - loss: 29.9128 - acc: 0.5372 - val_loss: 30.8542 - val_acc: 0.5297\n",
      "Epoch 8/100\n",
      "739/739 [==============================] - 0s 49us/step - loss: 29.8948 - acc: 0.5372 - val_loss: 30.8552 - val_acc: 0.5297\n",
      "Epoch 9/100\n",
      "739/739 [==============================] - 0s 60us/step - loss: 29.8782 - acc: 0.5372 - val_loss: 30.8533 - val_acc: 0.5297\n",
      "Epoch 10/100\n",
      "739/739 [==============================] - 0s 55us/step - loss: 29.8651 - acc: 0.5372 - val_loss: 30.8504 - val_acc: 0.5297\n",
      "Epoch 11/100\n",
      "739/739 [==============================] - 0s 59us/step - loss: 29.8553 - acc: 0.5372 - val_loss: 30.8500 - val_acc: 0.5297\n",
      "Epoch 12/100\n",
      "739/739 [==============================] - 0s 63us/step - loss: 29.8470 - acc: 0.5372 - val_loss: 30.8498 - val_acc: 0.5297\n",
      "Epoch 13/100\n",
      "739/739 [==============================] - 0s 57us/step - loss: 29.8385 - acc: 0.5372 - val_loss: 30.8567 - val_acc: 0.5297\n",
      "Epoch 14/100\n",
      "739/739 [==============================] - 0s 50us/step - loss: 29.8285 - acc: 0.5372 - val_loss: 30.8580 - val_acc: 0.5297\n",
      "Epoch 15/100\n",
      "739/739 [==============================] - 0s 60us/step - loss: 29.8235 - acc: 0.5372 - val_loss: 30.8557 - val_acc: 0.5297\n",
      "Epoch 16/100\n",
      "739/739 [==============================] - 0s 57us/step - loss: 29.8188 - acc: 0.5372 - val_loss: 30.8567 - val_acc: 0.5297\n",
      "Epoch 17/100\n",
      "739/739 [==============================] - 0s 50us/step - loss: 29.8161 - acc: 0.5372 - val_loss: 30.8518 - val_acc: 0.5297\n",
      "Epoch 18/100\n",
      "739/739 [==============================] - 0s 61us/step - loss: 29.8097 - acc: 0.5372 - val_loss: 30.8554 - val_acc: 0.5297\n",
      "Epoch 19/100\n",
      "739/739 [==============================] - 0s 53us/step - loss: 29.8059 - acc: 0.5372 - val_loss: 30.8574 - val_acc: 0.5297\n",
      "Epoch 20/100\n",
      "739/739 [==============================] - 0s 57us/step - loss: 29.8002 - acc: 0.5372 - val_loss: 30.8587 - val_acc: 0.5297\n",
      "Epoch 21/100\n",
      "739/739 [==============================] - 0s 56us/step - loss: 29.7958 - acc: 0.5372 - val_loss: 30.8596 - val_acc: 0.5297\n",
      "Epoch 22/100\n",
      "739/739 [==============================] - 0s 58us/step - loss: 29.7934 - acc: 0.5372 - val_loss: 30.8634 - val_acc: 0.5297\n",
      "Epoch 23/100\n",
      "739/739 [==============================] - 0s 53us/step - loss: 29.7891 - acc: 0.5372 - val_loss: 30.8641 - val_acc: 0.5297\n",
      "Epoch 24/100\n",
      "739/739 [==============================] - 0s 48us/step - loss: 29.7829 - acc: 0.5359 - val_loss: 30.8622 - val_acc: 0.5297\n",
      "Epoch 25/100\n",
      "739/739 [==============================] - 0s 55us/step - loss: 29.7822 - acc: 0.5345 - val_loss: 30.8570 - val_acc: 0.5189\n",
      "Epoch 26/100\n",
      "739/739 [==============================] - 0s 57us/step - loss: 29.7782 - acc: 0.5332 - val_loss: 30.8593 - val_acc: 0.5189\n",
      "Epoch 27/100\n",
      "739/739 [==============================] - 0s 53us/step - loss: 29.7734 - acc: 0.5318 - val_loss: 30.8593 - val_acc: 0.5189\n",
      "Epoch 28/100\n",
      "739/739 [==============================] - 0s 54us/step - loss: 29.7751 - acc: 0.5291 - val_loss: 30.8657 - val_acc: 0.5135\n",
      "Epoch 29/100\n",
      "739/739 [==============================] - 0s 44us/step - loss: 29.7697 - acc: 0.5277 - val_loss: 30.8630 - val_acc: 0.5189\n",
      "Epoch 30/100\n",
      "739/739 [==============================] - 0s 50us/step - loss: 29.7625 - acc: 0.5291 - val_loss: 30.8654 - val_acc: 0.5189\n",
      "Epoch 31/100\n",
      "739/739 [==============================] - 0s 50us/step - loss: 29.7598 - acc: 0.5250 - val_loss: 30.8638 - val_acc: 0.5243\n",
      "Epoch 32/100\n",
      "739/739 [==============================] - 0s 60us/step - loss: 29.7557 - acc: 0.5237 - val_loss: 30.8627 - val_acc: 0.5243\n",
      "Epoch 33/100\n",
      "739/739 [==============================] - 0s 59us/step - loss: 29.7518 - acc: 0.5196 - val_loss: 30.8668 - val_acc: 0.5189\n",
      "Epoch 34/100\n",
      "739/739 [==============================] - 0s 45us/step - loss: 29.7481 - acc: 0.5210 - val_loss: 30.8655 - val_acc: 0.5027\n",
      "Epoch 35/100\n",
      "739/739 [==============================] - 0s 60us/step - loss: 29.7483 - acc: 0.5237 - val_loss: 30.8745 - val_acc: 0.5135\n",
      "Epoch 36/100\n",
      "739/739 [==============================] - 0s 64us/step - loss: 29.7436 - acc: 0.5250 - val_loss: 30.8750 - val_acc: 0.5135\n",
      "Epoch 37/100\n",
      "739/739 [==============================] - 0s 47us/step - loss: 29.7381 - acc: 0.5264 - val_loss: 30.8739 - val_acc: 0.5081\n",
      "Epoch 38/100\n",
      "739/739 [==============================] - 0s 53us/step - loss: 29.7370 - acc: 0.5250 - val_loss: 30.8746 - val_acc: 0.5081\n",
      "Epoch 39/100\n",
      "739/739 [==============================] - 0s 58us/step - loss: 29.7334 - acc: 0.5183 - val_loss: 30.8786 - val_acc: 0.5081\n",
      "Epoch 40/100\n",
      "739/739 [==============================] - 0s 53us/step - loss: 29.7291 - acc: 0.5223 - val_loss: 30.8719 - val_acc: 0.5081\n",
      "Epoch 41/100\n",
      "739/739 [==============================] - 0s 47us/step - loss: 29.7254 - acc: 0.5169 - val_loss: 30.8708 - val_acc: 0.4973\n",
      "Epoch 42/100\n",
      "739/739 [==============================] - 0s 50us/step - loss: 29.7208 - acc: 0.5156 - val_loss: 30.8676 - val_acc: 0.4919\n",
      "Epoch 43/100\n",
      "739/739 [==============================] - 0s 42us/step - loss: 29.7194 - acc: 0.5088 - val_loss: 30.8670 - val_acc: 0.4757\n",
      "Epoch 44/100\n",
      "739/739 [==============================] - 0s 50us/step - loss: 29.7150 - acc: 0.5047 - val_loss: 30.8690 - val_acc: 0.4757\n",
      "Epoch 45/100\n",
      "739/739 [==============================] - 0s 46us/step - loss: 29.7162 - acc: 0.5088 - val_loss: 30.8602 - val_acc: 0.4649\n",
      "Epoch 46/100\n",
      "739/739 [==============================] - 0s 51us/step - loss: 29.7103 - acc: 0.5074 - val_loss: 30.8586 - val_acc: 0.4757\n",
      "Epoch 47/100\n",
      "739/739 [==============================] - 0s 49us/step - loss: 29.7067 - acc: 0.5061 - val_loss: 30.8606 - val_acc: 0.4649\n",
      "Epoch 48/100\n",
      "739/739 [==============================] - 0s 47us/step - loss: 29.7073 - acc: 0.5061 - val_loss: 30.8573 - val_acc: 0.4541\n",
      "Epoch 49/100\n",
      "739/739 [==============================] - 0s 42us/step - loss: 29.7017 - acc: 0.5088 - val_loss: 30.8620 - val_acc: 0.4541\n",
      "Epoch 50/100\n",
      "739/739 [==============================] - 0s 53us/step - loss: 29.6978 - acc: 0.5074 - val_loss: 30.8614 - val_acc: 0.4486\n",
      "Epoch 51/100\n",
      "739/739 [==============================] - 0s 47us/step - loss: 29.6964 - acc: 0.5101 - val_loss: 30.8672 - val_acc: 0.4486\n",
      "Epoch 52/100\n",
      "739/739 [==============================] - 0s 39us/step - loss: 29.6943 - acc: 0.5088 - val_loss: 30.8697 - val_acc: 0.4432\n",
      "Epoch 53/100\n",
      "739/739 [==============================] - 0s 46us/step - loss: 29.6914 - acc: 0.5061 - val_loss: 30.8713 - val_acc: 0.4324\n",
      "Epoch 54/100\n",
      "739/739 [==============================] - 0s 57us/step - loss: 29.6890 - acc: 0.5061 - val_loss: 30.8658 - val_acc: 0.4432\n",
      "Epoch 55/100\n",
      "739/739 [==============================] - 0s 45us/step - loss: 29.6872 - acc: 0.5074 - val_loss: 30.8673 - val_acc: 0.4432\n",
      "Epoch 56/100\n",
      "739/739 [==============================] - 0s 50us/step - loss: 29.6853 - acc: 0.5047 - val_loss: 30.8653 - val_acc: 0.4378\n",
      "Epoch 57/100\n",
      "739/739 [==============================] - 0s 47us/step - loss: 29.6861 - acc: 0.5061 - val_loss: 30.8642 - val_acc: 0.4324\n",
      "Epoch 58/100\n",
      "739/739 [==============================] - 0s 45us/step - loss: 29.6834 - acc: 0.5061 - val_loss: 30.8661 - val_acc: 0.4378\n",
      "Epoch 59/100\n",
      "739/739 [==============================] - 0s 49us/step - loss: 29.6809 - acc: 0.5061 - val_loss: 30.8603 - val_acc: 0.4378\n",
      "Epoch 60/100\n",
      "739/739 [==============================] - 0s 45us/step - loss: 29.6855 - acc: 0.5020 - val_loss: 30.8738 - val_acc: 0.4270\n",
      "Epoch 61/100\n",
      "739/739 [==============================] - 0s 54us/step - loss: 29.6795 - acc: 0.4966 - val_loss: 30.8702 - val_acc: 0.4270\n",
      "Epoch 62/100\n",
      "739/739 [==============================] - 0s 63us/step - loss: 29.6778 - acc: 0.4993 - val_loss: 30.8679 - val_acc: 0.4270\n",
      "Epoch 63/100\n",
      "739/739 [==============================] - 0s 49us/step - loss: 29.6752 - acc: 0.5034 - val_loss: 30.8724 - val_acc: 0.4270\n",
      "Epoch 64/100\n",
      "739/739 [==============================] - 0s 42us/step - loss: 29.6719 - acc: 0.5007 - val_loss: 30.8734 - val_acc: 0.4270\n",
      "Epoch 65/100\n",
      "739/739 [==============================] - 0s 55us/step - loss: 29.6738 - acc: 0.4939 - val_loss: 30.8675 - val_acc: 0.4270\n",
      "Epoch 66/100\n",
      "739/739 [==============================] - 0s 47us/step - loss: 29.6695 - acc: 0.4926 - val_loss: 30.8667 - val_acc: 0.4270\n",
      "Epoch 67/100\n",
      "739/739 [==============================] - 0s 47us/step - loss: 29.6708 - acc: 0.4980 - val_loss: 30.8638 - val_acc: 0.4270\n",
      "Epoch 68/100\n",
      "739/739 [==============================] - 0s 47us/step - loss: 29.6672 - acc: 0.5007 - val_loss: 30.8671 - val_acc: 0.4270\n",
      "Epoch 69/100\n",
      "739/739 [==============================] - 0s 46us/step - loss: 29.6689 - acc: 0.4939 - val_loss: 30.8740 - val_acc: 0.4324\n",
      "Epoch 70/100\n",
      "739/739 [==============================] - 0s 47us/step - loss: 29.6637 - acc: 0.4939 - val_loss: 30.8700 - val_acc: 0.4324\n",
      "Epoch 71/100\n",
      "739/739 [==============================] - 0s 47us/step - loss: 29.6648 - acc: 0.4912 - val_loss: 30.8720 - val_acc: 0.4270\n",
      "Epoch 72/100\n",
      "739/739 [==============================] - 0s 43us/step - loss: 29.6627 - acc: 0.4899 - val_loss: 30.8716 - val_acc: 0.4324\n",
      "Epoch 73/100\n",
      "739/739 [==============================] - 0s 54us/step - loss: 29.6637 - acc: 0.4939 - val_loss: 30.8761 - val_acc: 0.4270\n",
      "Epoch 74/100\n",
      "739/739 [==============================] - 0s 50us/step - loss: 29.6626 - acc: 0.4912 - val_loss: 30.8760 - val_acc: 0.4270\n",
      "Epoch 75/100\n",
      "739/739 [==============================] - 0s 49us/step - loss: 29.6605 - acc: 0.4912 - val_loss: 30.8795 - val_acc: 0.4270\n",
      "Epoch 76/100\n",
      "739/739 [==============================] - 0s 51us/step - loss: 29.6602 - acc: 0.4926 - val_loss: 30.8812 - val_acc: 0.4216\n",
      "Epoch 77/100\n",
      "739/739 [==============================] - 0s 44us/step - loss: 29.6594 - acc: 0.4926 - val_loss: 30.8829 - val_acc: 0.4216\n",
      "Epoch 78/100\n",
      "739/739 [==============================] - 0s 54us/step - loss: 29.6589 - acc: 0.4885 - val_loss: 30.8834 - val_acc: 0.4270\n",
      "Epoch 79/100\n",
      "739/739 [==============================] - 0s 54us/step - loss: 29.6587 - acc: 0.4912 - val_loss: 30.8812 - val_acc: 0.4270\n",
      "Epoch 80/100\n",
      "739/739 [==============================] - 0s 46us/step - loss: 29.6601 - acc: 0.4912 - val_loss: 30.8868 - val_acc: 0.4270\n",
      "Epoch 81/100\n",
      "739/739 [==============================] - 0s 49us/step - loss: 29.6592 - acc: 0.4912 - val_loss: 30.8776 - val_acc: 0.4216\n",
      "Epoch 82/100\n",
      "739/739 [==============================] - 0s 42us/step - loss: 29.6586 - acc: 0.4926 - val_loss: 30.8790 - val_acc: 0.4270\n",
      "Epoch 83/100\n",
      "739/739 [==============================] - 0s 49us/step - loss: 29.6578 - acc: 0.4885 - val_loss: 30.8774 - val_acc: 0.4270\n",
      "Epoch 84/100\n",
      "739/739 [==============================] - 0s 49us/step - loss: 29.6543 - acc: 0.4912 - val_loss: 30.8779 - val_acc: 0.4216\n",
      "Epoch 85/100\n",
      "739/739 [==============================] - 0s 53us/step - loss: 29.6536 - acc: 0.4926 - val_loss: 30.8783 - val_acc: 0.4270\n",
      "Epoch 86/100\n",
      "739/739 [==============================] - 0s 44us/step - loss: 29.6531 - acc: 0.4939 - val_loss: 30.8760 - val_acc: 0.4270\n",
      "Epoch 87/100\n",
      "739/739 [==============================] - 0s 50us/step - loss: 29.6543 - acc: 0.4912 - val_loss: 30.8766 - val_acc: 0.4216\n",
      "Epoch 88/100\n",
      "739/739 [==============================] - 0s 43us/step - loss: 29.6537 - acc: 0.4912 - val_loss: 30.8776 - val_acc: 0.4270\n",
      "Epoch 89/100\n",
      "739/739 [==============================] - 0s 53us/step - loss: 29.6546 - acc: 0.4926 - val_loss: 30.8769 - val_acc: 0.4270\n",
      "Epoch 90/100\n",
      "739/739 [==============================] - 0s 50us/step - loss: 29.6522 - acc: 0.4912 - val_loss: 30.8824 - val_acc: 0.4216\n",
      "Epoch 91/100\n",
      "739/739 [==============================] - 0s 49us/step - loss: 29.6506 - acc: 0.4926 - val_loss: 30.8805 - val_acc: 0.4216\n",
      "Epoch 92/100\n",
      "739/739 [==============================] - 0s 52us/step - loss: 29.6514 - acc: 0.4939 - val_loss: 30.8790 - val_acc: 0.4216\n",
      "Epoch 93/100\n",
      "739/739 [==============================] - 0s 58us/step - loss: 29.6509 - acc: 0.4899 - val_loss: 30.8830 - val_acc: 0.4216\n",
      "Epoch 94/100\n",
      "739/739 [==============================] - 0s 51us/step - loss: 29.6510 - acc: 0.4899 - val_loss: 30.8839 - val_acc: 0.4216\n",
      "Epoch 95/100\n",
      "739/739 [==============================] - 0s 47us/step - loss: 29.6522 - acc: 0.4912 - val_loss: 30.8786 - val_acc: 0.4216\n",
      "Epoch 96/100\n",
      "739/739 [==============================] - 0s 44us/step - loss: 29.6499 - acc: 0.4899 - val_loss: 30.8794 - val_acc: 0.4270\n",
      "Epoch 97/100\n",
      "739/739 [==============================] - 0s 54us/step - loss: 29.6533 - acc: 0.4899 - val_loss: 30.8781 - val_acc: 0.4216\n",
      "Epoch 98/100\n",
      "739/739 [==============================] - 0s 43us/step - loss: 29.6499 - acc: 0.4899 - val_loss: 30.8854 - val_acc: 0.4216\n",
      "Epoch 99/100\n",
      "739/739 [==============================] - 0s 55us/step - loss: 29.6510 - acc: 0.4858 - val_loss: 30.8820 - val_acc: 0.4270\n",
      "Epoch 100/100\n",
      "739/739 [==============================] - 0s 43us/step - loss: 29.6473 - acc: 0.4885 - val_loss: 30.8841 - val_acc: 0.4216\n",
      "_________________________________________________________________\n",
      "Layer (type)                 Output Shape              Param #   \n",
      "=================================================================\n",
      "lstm_10 (LSTM)               (None, 30)                4920      \n",
      "_________________________________________________________________\n",
      "dense_10 (Dense)             (None, 4)                 124       \n",
      "=================================================================\n",
      "Total params: 5,044\n",
      "Trainable params: 5,044\n",
      "Non-trainable params: 0\n",
      "_________________________________________________________________\n"
     ]
    }
   ],
   "source": [
    "epochs = 100\n",
    "emb_dim = 128\n",
    "batch_size = 64\n",
    "\n",
    "model = Sequential()\n",
    "model.add(LSTM(30))\n",
    "model.add(Dense(output_dim=4,activation='softmax'))\n",
    "model.compile(optimizer='adam',loss='categorical_crossentropy',metrics=['acc'])\n",
    "# history = model.fit(X_train,Y_train,batch_size=batch_size,epochs=epochs,class_weight={0:s,1:d,2:q,3:c},validation_split=0.2,callbacks=[EarlyStopping(monitor='val_loss',patience=7, min_delta=0.0001)])\n",
    "history = model.fit(X_train,Y_train,batch_size=batch_size,epochs=epochs,class_weight={0:s,1:d,2:q,3:c},validation_split=0.2)\n",
    "model.summary()"
   ]
  },
  {
   "cell_type": "code",
   "execution_count": 193,
   "metadata": {},
   "outputs": [
    {
     "name": "stdout",
     "output_type": "stream",
     "text": [
      "231/231 [==============================] - 0s 90us/step\n",
      "Test set\n",
      "  Loss: 1.309\n",
      "  Accuracy: 0.463\n"
     ]
    }
   ],
   "source": [
    "accr = model.evaluate(X_test,Y_test)\n",
    "print('Test set\\n  Loss: {:0.3f}\\n  Accuracy: {:0.3f}'.format(accr[0],accr[1]))"
   ]
  },
  {
   "cell_type": "code",
   "execution_count": 194,
   "metadata": {},
   "outputs": [
    {
     "data": {
      "image/png": "[encoded data removed]",
      "text/plain": [
       "<Figure size 432x288 with 1 Axes>"
      ]
     },
     "metadata": {
      "needs_background": "light"
     },
     "output_type": "display_data"
    },
    {
     "data": {
      "image/png": "[encoded data removed]",
      "text/plain": [
       "<Figure size 432x288 with 1 Axes>"
      ]
     },
     "metadata": {
      "needs_background": "light"
     },
     "output_type": "display_data"
    }
   ],
   "source": [
    "import matplotlib.pyplot as plt\n",
    "\n",
    "acc = history.history['acc']\n",
    "val_acc = history.history['val_acc']\n",
    "loss = history.history['loss']\n",
    "val_loss = history.history['val_loss']\n",
    "\n",
    "epochs = range(1, len(acc) + 1)\n",
    "\n",
    "plt.plot(epochs, acc, 'bo', label='Training acc')\n",
    "plt.plot(epochs, val_acc, 'b', label='Validation acc')\n",
    "plt.title('Training and validation accuracy')\n",
    "plt.legend()\n",
    "\n",
    "plt.figure()\n",
    "\n",
    "plt.plot(epochs, loss, 'bo', label='Training loss')\n",
    "plt.plot(epochs, val_loss, 'b', label='Validation loss')\n",
    "plt.title('Training and validation loss')\n",
    "plt.legend()\n",
    "\n",
    "plt.show()"
   ]
  },
  {
   "cell_type": "code",
   "execution_count": 195,
   "metadata": {},
   "outputs": [],
   "source": [
    "np_vec_shaped = np.reshape(np_vec_list,(np_vec_list.shape[0],1,np_vec_list.shape[1]))\n",
    "pred = model.predict(np_vec_shaped)"
   ]
  },
  {
   "cell_type": "code",
   "execution_count": 196,
   "metadata": {},
   "outputs": [],
   "source": [
    "ary = []\n",
    "lb = ['supporting', 'denying', 'questioning', 'commenting']\n",
    "for i in range(pred.shape[0]):\n",
    "    ary.append(lb[np.argmax(pred[i])])"
   ]
  },
  {
   "cell_type": "code",
   "execution_count": 197,
   "metadata": {},
   "outputs": [],
   "source": [
    "sup = [1.,0.,0.,0.]\n",
    "den = [0.,1.,0.,0.]\n",
    "que = [0.,0.,1.,0.]\n",
    "com = [0.,0.,0.,1.]"
   ]
  },
  {
   "cell_type": "code",
   "execution_count": 198,
   "metadata": {},
   "outputs": [],
   "source": [
    "test = []\n",
    "for i in range(np_vec_shaped.shape[0]):\n",
    "    if( list(np_vec_shaped[i]) == sup ):\n",
    "        test.append('supporting')\n",
    "    elif( list(np_vec_shaped[i]) == den ):\n",
    "        test.append('denying')\n",
    "    elif( list(np_vec_shaped[i]) == que ):\n",
    "        test.append('questioning')\n",
    "    else:\n",
    "        test.append('commenting')\n"
   ]
  },
  {
   "cell_type": "code",
   "execution_count": 199,
   "metadata": {},
   "outputs": [],
   "source": [
    "results = pd.DataFrame(test)\n",
    "results.columns = ['test']\n",
    "results['predictions'] = ary"
   ]
  },
  {
   "cell_type": "code",
   "execution_count": 200,
   "metadata": {},
   "outputs": [
    {
     "data": {
      "text/html": [
       "<div>\n",
       "<style scoped>\n",
       "    .dataframe tbody tr th:only-of-type {\n",
       "        vertical-align: middle;\n",
       "    }\n",
       "\n",
       "    .dataframe tbody tr th {\n",
       "        vertical-align: top;\n",
       "    }\n",
       "\n",
       "    .dataframe thead th {\n",
       "        text-align: right;\n",
       "    }\n",
       "</style>\n",
       "<table border=\"1\" class=\"dataframe\">\n",
       "  <thead>\n",
       "    <tr style=\"text-align: right;\">\n",
       "      <th></th>\n",
       "      <th>test</th>\n",
       "      <th>predictions</th>\n",
       "    </tr>\n",
       "  </thead>\n",
       "  <tbody>\n",
       "    <tr>\n",
       "      <th>0</th>\n",
       "      <td>commenting</td>\n",
       "      <td>commenting</td>\n",
       "    </tr>\n",
       "    <tr>\n",
       "      <th>1</th>\n",
       "      <td>commenting</td>\n",
       "      <td>supporting</td>\n",
       "    </tr>\n",
       "    <tr>\n",
       "      <th>2</th>\n",
       "      <td>commenting</td>\n",
       "      <td>supporting</td>\n",
       "    </tr>\n",
       "    <tr>\n",
       "      <th>3</th>\n",
       "      <td>commenting</td>\n",
       "      <td>supporting</td>\n",
       "    </tr>\n",
       "    <tr>\n",
       "      <th>4</th>\n",
       "      <td>commenting</td>\n",
       "      <td>commenting</td>\n",
       "    </tr>\n",
       "  </tbody>\n",
       "</table>\n",
       "</div>"
      ],
      "text/plain": [
       "         test predictions\n",
       "0  commenting  commenting\n",
       "1  commenting  supporting\n",
       "2  commenting  supporting\n",
       "3  commenting  supporting\n",
       "4  commenting  commenting"
      ]
     },
     "execution_count": 200,
     "metadata": {},
     "output_type": "execute_result"
    }
   ],
   "source": [
    "results.head()"
   ]
  },
  {
   "cell_type": "code",
   "execution_count": 201,
   "metadata": {},
   "outputs": [
    {
     "data": {
      "text/plain": [
       "<matplotlib.axes._subplots.AxesSubplot at 0x12a936f9fd0>"
      ]
     },
     "execution_count": 201,
     "metadata": {},
     "output_type": "execute_result"
    },
    {
     "data": {
      "image/png": "[encoded data removed]",
      "text/plain": [
       "<Figure size 432x288 with 1 Axes>"
      ]
     },
     "metadata": {
      "needs_background": "light"
     },
     "output_type": "display_data"
    }
   ],
   "source": [
    "plt = results.predictions.value_counts().plot(kind='bar')\n",
    "plt\n"
   ]
  },
  {
   "cell_type": "code",
   "execution_count": 202,
   "metadata": {},
   "outputs": [],
   "source": [
    "plt.get_figure().savefig('all_data_10.png', dpi=300)"
   ]
  },
  {
   "cell_type": "code",
   "execution_count": 203,
   "metadata": {},
   "outputs": [
    {
     "name": "stdout",
     "output_type": "stream",
     "text": [
      "1155/1155 [==============================] - 0s 72us/step\n",
      "Test set\n",
      "  Loss: 1.296\n",
      "  Accuracy: 0.471\n"
     ]
    }
   ],
   "source": [
    "accr = model.evaluate(np_vec_shaped,labels)\n",
    "print('Test set\\n  Loss: {:0.3f}\\n  Accuracy: {:0.3f}'.format(accr[0],accr[1]))"
   ]
  },
  {
   "cell_type": "code",
   "execution_count": null,
   "metadata": {},
   "outputs": [],
   "source": []
  },
  {
   "cell_type": "code",
   "execution_count": null,
   "metadata": {},
   "outputs": [],
   "source": []
  },
  {
   "cell_type": "code",
   "execution_count": null,
   "metadata": {},
   "outputs": [],
   "source": []
  }
 ],
 "metadata": {
  "kernelspec": {
   "display_name": "Python 3",
   "language": "python",
   "name": "python3"
  },
  "language_info": {
   "codemirror_mode": {
    "name": "ipython",
    "version": 3
   },
   "file_extension": ".py",
   "mimetype": "text/x-python",
   "name": "python",
   "nbconvert_exporter": "python",
   "pygments_lexer": "ipython3",
   "version": "3.7.3"
  }
 },
 "nbformat": 4,
 "nbformat_minor": 2
}
