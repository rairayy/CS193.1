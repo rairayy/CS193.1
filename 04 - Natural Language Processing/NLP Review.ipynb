{
 "cells": [
  {
   "cell_type": "markdown",
   "metadata": {},
   "source": [
    "### Pandas Numpy Review"
   ]
  },
  {
   "cell_type": "markdown",
   "metadata": {},
   "source": [
    "**Importing into a DF**\n",
    "\n",
    "`messages = pd.read_csv('file_name', sep='\\t', names=['column','names'])`"
   ]
  },
  {
   "cell_type": "markdown",
   "metadata": {},
   "source": [
    "---"
   ]
  },
  {
   "cell_type": "markdown",
   "metadata": {},
   "source": [
    "### TextBlob"
   ]
  },
  {
   "cell_type": "markdown",
   "metadata": {},
   "source": [
    "**To TextBlob**\n",
    "\n",
    "`TextBlob(text)`\n",
    "\n",
    "**To Sentence**\n",
    "\n",
    "`textblob_variable.sentences`\n",
    "\n",
    "**To Words**\n",
    "\n",
    "`sentence_variable.words`\n",
    "\n",
    "**Word counts**\n",
    "\n",
    "`blob_variable.word_counts`"
   ]
  },
  {
   "cell_type": "markdown",
   "metadata": {},
   "source": [
    "---"
   ]
  },
  {
   "cell_type": "markdown",
   "metadata": {},
   "source": [
    "### Linguistic Features"
   ]
  },
  {
   "cell_type": "markdown",
   "metadata": {},
   "source": [
    "**Tagging parts of Speech**\n",
    "\n",
    "`var.tags`\n",
    "\n",
    "**Lemmatizing (rudimentary form)**\n",
    "\n",
    "`word_var.lemmatize('param')`\n",
    "\n",
    "parameters may be 'n' (noun, default), 'v' (verb), 'a' (adjective), 'r' (adverb)\n",
    "\n",
    "**Making plural**\n",
    "\n",
    "`word_var.pluralize()`\n",
    "\n",
    "**Making singular**\n",
    "\n",
    "`word_var.singularize()`\n",
    "\n",
    "**Finding synonyms**\n",
    "\n",
    "`list(zip(word_var.sysnsets, word_var.definitions))`\n",
    "\n",
    "**Correcting spelling**\n",
    "\n",
    "`word_var.correct()`\n",
    "\n",
    "**Path Similarity**\n",
    "\n",
    "`apple = Word('apple').synsets[0]` (converts to a Word, because it might not recognize the string as w Word)\n",
    "\n",
    "`orange = Word('orange').synsets[0]`\n",
    "\n",
    "`apple.path_similarity(orange)`\n",
    "\n",
    "**Detecting Language**\n",
    "\n",
    "`blob_var.detect_language()`\n",
    "\n",
    "**Translating**\n",
    "\n",
    "`blob_var.translate(from_lang='original', to='desired')`"
   ]
  },
  {
   "cell_type": "code",
   "execution_count": null,
   "metadata": {},
   "outputs": [],
   "source": []
  }
 ],
 "metadata": {
  "kernelspec": {
   "display_name": "Python 3",
   "language": "python",
   "name": "python3"
  },
  "language_info": {
   "codemirror_mode": {
    "name": "ipython",
    "version": 3
   },
   "file_extension": ".py",
   "mimetype": "text/x-python",
   "name": "python",
   "nbconvert_exporter": "python",
   "pygments_lexer": "ipython3",
   "version": "3.7.3"
  }
 },
 "nbformat": 4,
 "nbformat_minor": 2
}
