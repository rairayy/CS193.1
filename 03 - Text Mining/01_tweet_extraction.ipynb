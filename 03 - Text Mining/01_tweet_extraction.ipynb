{
 "cells": [
  {
   "cell_type": "markdown",
   "metadata": {},
   "source": [
    "# Tweet extraction \n",
    "\n",
    "Hello everyone! This notebook will discuss the `Twitter API`, `Tweepy`, and `TextBlob`. The `Tweepy` package is used to access the `Twitter API` and gather public tweets. We will also be using `TextBlob` to preprocess our tweets for later text analysis. "
   ]
  },
  {
   "cell_type": "code",
   "execution_count": 1,
   "metadata": {
    "collapsed": true
   },
   "outputs": [],
   "source": [
    "import tweepy\n",
    "import pandas as pd"
   ]
  },
  {
   "cell_type": "markdown",
   "metadata": {},
   "source": [
    "### Twitter API\n",
    "The `Twitter API` is an application programming interface that allows programmers to interact with Twitter. To access it, users are required to secure a `Twitter Developer Account` and a `Twitter App`.\n",
    "\n",
    "Once both are secured, the user will have access to their assigned application keys. There are keys provided below. "
   ]
  },
  {
   "cell_type": "code",
   "execution_count": 2,
   "metadata": {
    "collapsed": true
   },
   "outputs": [],
   "source": [
    "# Application keys\n",
    "consumer_key = 'VpyTYjQp1p4RH5HLBESCQQYBe'\n",
    "consumer_key_secret = 'ggKmMrIz5Hw7xmR4eskK93MoHvaX33kM6npShNGggP0XayNObo'\n",
    "\n",
    "row1_consumer_key = 'ryxIRRxFIB3UE6DftqDVBFVIa'\n",
    "row1_consumer_key_secret = '5Nn7bHCn3V6JNJyJlGZ1v4xKuXjnnSypRrYMCA0bmYZBj0IpMP'\n",
    "\n",
    "row2_consumer_key = 'kqVi6r1TlPvZqdDwv0Gx0g8b0'\n",
    "row2_consumer_key_secret = ''\n",
    "\n",
    "row3_consumer_key = 'fkirrtsfNYN2y4WxYj1R1OsFG'\n",
    "row3_consumer_key_secret = 'kxr1YhZ9SPtpi1ZCirMBkL4yCSZMEjTRWXw31bdJoLshtrhRua'\n",
    "\n",
    "access_token = ''\n",
    "access_token_secret = ''"
   ]
  },
  {
   "cell_type": "code",
   "execution_count": 3,
   "metadata": {},
   "outputs": [],
   "source": [
    "def create_api(consumer_key, consumer_key_secret):\n",
    "    \"\"\"\n",
    "    Creates an API instance with the provided access tokens\n",
    "    \"\"\"\n",
    "    auth = tweepy.OAuthHandler(consumer_key, consumer_key_secret)\n",
    "    auth.set_access_token(access_token, access_token_secret)\n",
    "    api = tweepy.API(auth)\n",
    "    return api"
   ]
  },
  {
   "cell_type": "code",
   "execution_count": 4,
   "metadata": {},
   "outputs": [],
   "source": [
    "def search_tweets(api, query, ignore_rt=False, max_tweets=1000, lang='en'):\n",
    "    \"\"\"\n",
    "    Searches public tweets given the API, query, and other optional parameters\n",
    "    \"\"\"\n",
    "    if ignore_rt:\n",
    "        query = query + ' -filter:retweets'\n",
    "    search = tweepy.Cursor(api.search, 'wooloo', lang=lang).items(max_tweets)\n",
    "    print(\"Downloaded {0} tweets\".format(max_tweets))\n",
    "    return search"
   ]
  },
  {
   "cell_type": "code",
   "execution_count": 5,
   "metadata": {},
   "outputs": [],
   "source": [
    "def search_to_df(search_results):\n",
    "    \"\"\"\n",
    "    Transform search results into a Pandas dataframe\n",
    "    \"\"\"\n",
    "    tweets = [[t.id, t.user.screen_name, t.created_at, t.text] for t in search_results]\n",
    "    tweets_df = pd.DataFrame(tweets, columns=['id', 'handle', 'created_at', 'text'])\n",
    "    return tweets_df"
   ]
  },
  {
   "cell_type": "code",
   "execution_count": 6,
   "metadata": {},
   "outputs": [
    {
     "name": "stdout",
     "output_type": "stream",
     "text": [
      "Downloaded 1000 tweets\n"
     ]
    },
    {
     "data": {
      "text/html": [
       "<div>\n",
       "<style scoped>\n",
       "    .dataframe tbody tr th:only-of-type {\n",
       "        vertical-align: middle;\n",
       "    }\n",
       "\n",
       "    .dataframe tbody tr th {\n",
       "        vertical-align: top;\n",
       "    }\n",
       "\n",
       "    .dataframe thead th {\n",
       "        text-align: right;\n",
       "    }\n",
       "</style>\n",
       "<table border=\"1\" class=\"dataframe\">\n",
       "  <thead>\n",
       "    <tr style=\"text-align: right;\">\n",
       "      <th></th>\n",
       "      <th>id</th>\n",
       "      <th>handle</th>\n",
       "      <th>created_at</th>\n",
       "      <th>text</th>\n",
       "    </tr>\n",
       "  </thead>\n",
       "  <tbody>\n",
       "    <tr>\n",
       "      <th>0</th>\n",
       "      <td>1141553866938261505</td>\n",
       "      <td>DoodleSpooks</td>\n",
       "      <td>2019-06-20 03:50:25</td>\n",
       "      <td>RT @BirdKeeperToby: The Galar region, new Poke...</td>\n",
       "    </tr>\n",
       "    <tr>\n",
       "      <th>1</th>\n",
       "      <td>1141552242912309248</td>\n",
       "      <td>EZDBud</td>\n",
       "      <td>2019-06-20 03:43:58</td>\n",
       "      <td>@JammerHighwind We needed more wooloo in our l...</td>\n",
       "    </tr>\n",
       "    <tr>\n",
       "      <th>2</th>\n",
       "      <td>1141551914066333696</td>\n",
       "      <td>Jay_Jitters</td>\n",
       "      <td>2019-06-20 03:42:39</td>\n",
       "      <td>RT @Xephia: A wooloo cloud ☁️🌱 https://t.co/WS...</td>\n",
       "    </tr>\n",
       "    <tr>\n",
       "      <th>3</th>\n",
       "      <td>1141551873297649669</td>\n",
       "      <td>toboldlylaura</td>\n",
       "      <td>2019-06-20 03:42:30</td>\n",
       "      <td>Friend: I can’t sleep :(\\nMe: want to count sh...</td>\n",
       "    </tr>\n",
       "    <tr>\n",
       "      <th>4</th>\n",
       "      <td>1141551868163829760</td>\n",
       "      <td>Jay_Jitters</td>\n",
       "      <td>2019-06-20 03:42:29</td>\n",
       "      <td>RT @Phoelion: Woohoo! It’s Wooloo!! 💖 https://...</td>\n",
       "    </tr>\n",
       "  </tbody>\n",
       "</table>\n",
       "</div>"
      ],
      "text/plain": [
       "                    id         handle          created_at  \\\n",
       "0  1141553866938261505   DoodleSpooks 2019-06-20 03:50:25   \n",
       "1  1141552242912309248         EZDBud 2019-06-20 03:43:58   \n",
       "2  1141551914066333696    Jay_Jitters 2019-06-20 03:42:39   \n",
       "3  1141551873297649669  toboldlylaura 2019-06-20 03:42:30   \n",
       "4  1141551868163829760    Jay_Jitters 2019-06-20 03:42:29   \n",
       "\n",
       "                                                text  \n",
       "0  RT @BirdKeeperToby: The Galar region, new Poke...  \n",
       "1  @JammerHighwind We needed more wooloo in our l...  \n",
       "2  RT @Xephia: A wooloo cloud ☁️🌱 https://t.co/WS...  \n",
       "3  Friend: I can’t sleep :(\\nMe: want to count sh...  \n",
       "4  RT @Phoelion: Woohoo! It’s Wooloo!! 💖 https://...  "
      ]
     },
     "execution_count": 6,
     "metadata": {},
     "output_type": "execute_result"
    }
   ],
   "source": [
    "# Extract tweets\n",
    "api = create_api(consumer_key, consumer_key_secret)\n",
    "search_results = search_tweets(api, 'wooloo', ignore_rt=True, max_tweets=1000)\n",
    "tweets = search_to_df(search_results)\n",
    "tweets.head()"
   ]
  },
  {
   "cell_type": "code",
   "execution_count": 8,
   "metadata": {},
   "outputs": [],
   "source": [
    "# Export the tweets into CSV\n",
    "tweets.to_csv('out/tweets.csv', index=False)"
   ]
  },
  {
   "cell_type": "code",
   "execution_count": null,
   "metadata": {},
   "outputs": [],
   "source": []
  }
 ],
 "metadata": {
  "kernelspec": {
   "display_name": "Python 3",
   "language": "python",
   "name": "python3"
  },
  "language_info": {
   "codemirror_mode": {
    "name": "ipython",
    "version": 3
   },
   "file_extension": ".py",
   "mimetype": "text/x-python",
   "name": "python",
   "nbconvert_exporter": "python",
   "pygments_lexer": "ipython3",
   "version": "3.6.2"
  }
 },
 "nbformat": 4,
 "nbformat_minor": 2
}
