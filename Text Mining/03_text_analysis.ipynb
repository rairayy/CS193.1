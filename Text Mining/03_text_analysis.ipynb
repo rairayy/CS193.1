{
 "cells": [
  {
   "cell_type": "markdown",
   "metadata": {},
   "source": [
    "# Text analysis\n",
    "\n",
    "Hello everyone! We're learning about text analysis in the section with `TextBlob`, `Scikit-learn`, and `WordCloud`. We'll take a look into what our tweets contain and how we can visualize them to get a better understanding of their makeup."
   ]
  },
  {
   "cell_type": "code",
   "execution_count": null,
   "metadata": {},
   "outputs": [],
   "source": [
    "import pandas as pd\n",
    "import matplotlib.pyplot as plt\n",
    "from wordcloud import WordCloud\n",
    "from textblob import TextBlob as tb\n",
    "from IPython.display import Image as im"
   ]
  },
  {
   "cell_type": "code",
   "execution_count": null,
   "metadata": {},
   "outputs": [],
   "source": [
    "# Read the cleaned tweets\n",
    "cleaned_tweets = pd.read_csv('cleaned_tweets.csv', index_col=None, header=0)\n",
    "cleaned_tweets.head()"
   ]
  },
  {
   "cell_type": "code",
   "execution_count": null,
   "metadata": {},
   "outputs": [],
   "source": [
    "def analyze_tweets(tweets):\n",
    "    \"\"\"Analyzes the sentiment polarity and subjectivity of tweets\"\"\"\n",
    "    sentiment = []\n",
    "    subjectivity = []\n",
    "    for text in tweets['text']:\n",
    "        blob = tb(text)\n",
    "        sentiment.append(blob.polarity)\n",
    "        subjectivity.append(blob.subjectivity)\n",
    "    tweets['sentiment'] = sentiment\n",
    "    tweets['subjectivity'] = subjectivity\n",
    "    return tweets"
   ]
  },
  {
   "cell_type": "code",
   "execution_count": null,
   "metadata": {},
   "outputs": [],
   "source": [
    "# Analyze the sentiment and subjectivity of tweets\n",
    "analyzed_tweets = analyze_tweets(cleaned_tweets)\n",
    "val = analyzed_tweets.iloc[0]\n",
    "print('Original text:', val['text'])\n",
    "print('Cleaned text:', val['cleaned_text'])\n",
    "print('Sentiment:', val['sentiment'])\n",
    "print('Subjectivity:', val['subjectivity'])"
   ]
  },
  {
   "cell_type": "code",
   "execution_count": null,
   "metadata": {},
   "outputs": [],
   "source": [
    "def create_wordcloud(tweets, max_words=500):\n",
    "    \"\"\"Create a wordcloud of most common words in a set of tweets\"\"\"\n",
    "    \n",
    "    # Transform text for WordCloud\n",
    "    tweets = tweets['cleaned_text']\n",
    "    tweets = tweets.dropna()\n",
    "    tweets = ' '.join(tweets)\n",
    "    tweets = tweets.replace(' ', ',')\n",
    "    \n",
    "    # Generate wordcloud image\n",
    "    wc = WordCloud(background_color=\"white\", max_words=max_words, colormap='plasma')\n",
    "    wc.generate(tweets)\n",
    "    plt.imshow(wc, interpolation='bilinear')\n",
    "    plt.title('Twitter Generated Cloud', size=30)\n",
    "    plt.axis(\"off\")"
   ]
  },
  {
   "cell_type": "code",
   "execution_count": null,
   "metadata": {},
   "outputs": [],
   "source": [
    "# Generate a wordcloud\n",
    "create_wordcloud(cleaned_tweets)"
   ]
  },
  {
   "cell_type": "code",
   "execution_count": null,
   "metadata": {},
   "outputs": [],
   "source": []
  }
 ],
 "metadata": {
  "kernelspec": {
   "display_name": "Python 3",
   "language": "python",
   "name": "python3"
  },
  "language_info": {
   "codemirror_mode": {
    "name": "ipython",
    "version": 3
   },
   "file_extension": ".py",
   "mimetype": "text/x-python",
   "name": "python",
   "nbconvert_exporter": "python",
   "pygments_lexer": "ipython3",
   "version": "3.7.2"
  }
 },
 "nbformat": 4,
 "nbformat_minor": 2
}
