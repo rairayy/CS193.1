{
 "cells": [
  {
   "cell_type": "code",
   "execution_count": 1,
   "metadata": {},
   "outputs": [],
   "source": [
    "def distance2(orgs, fb, famil, unicorn, hs):\n",
    "    '''\n",
    "    Function for returing a dataframe that contains different kinds of edge weights\n",
    "    '''\n",
    "    dist_df = pd.DataFrame(index=np.arange(11), columns=np.arange(11))\n",
    "    dist_df.fillna(0,inplace=True)\n",
    "    for i in range(n):\n",
    "        for j in range(i+1,n):\n",
    "            if orgs:\n",
    "                dist_df[i][j] += orgs_df[i][j]\n",
    "                dist_df[j][i] += orgs_df[i][j]\n",
    "            if fb:\n",
    "                dist_df[i][j] += top_df[i][j]\n",
    "                dist_df[j][i] += top_df[i][j]\n",
    "            if famil:\n",
    "                dist_df[i][j] += famil_df[i][j]\n",
    "                dist_df[j][i] += famil_df[i][j]\n",
    "            if unicorn:\n",
    "                dist_df[i][j] += uu_df[i][j]\n",
    "                dist_df[j][i] += uu_df[i][j]\n",
    "            if hs:\n",
    "                dist_df[i][j] += hs_df[i][j]\n",
    "                dist_df[j][i] += hs_df[i][j]\n",
    "    dist_df.head()\n",
    "    return dist_df"
   ]
  },
  {
   "cell_type": "code",
   "execution_count": 2,
   "metadata": {},
   "outputs": [],
   "source": [
    "def correlate( df1, df2 ):\n",
    "    correlate = pd.concat([df1, df2], axis=1, keys=['df1', 'df2']).corr().loc['df2', 'df1']\n",
    "    return correlate"
   ]
  },
  {
   "cell_type": "code",
   "execution_count": null,
   "metadata": {},
   "outputs": [],
   "source": [
    "# Two Features\n",
    "final = distance(True,True,False,False,False)\n",
    "final = distance(True,False,True,False,False)\n",
    "final = distance(True,False,False,True,False)\n",
    "final = distance(True,False,False,False,True)\n",
    "final = distance(False,True,True,False,False)\n",
    "final = distance(False,True,False,True,False)\n",
    "final = distance(False,True,False,False,True)\n",
    "final = distance(False,False,True,True,False)\n",
    "final = distance(False,False,True,False,True)\n",
    "final = distance(False,False,False,True,True)\n",
    "\n",
    "# Three Features\n",
    "final = distance(True,True,True,False,False)\n",
    "final = distance(True,True,False,True,False)\n",
    "final = distance(True,False,True,True,False)\n",
    "final = distance(False,True,True,True,False)\n",
    "final = distance(True,True,False,False,True)\n",
    "final = distance(False,True,True,True,False)\n",
    "final = distance(False,True,True,False,True)\n",
    "final = distance(False,False,True,True,True)\n",
    "\n",
    "# Four Features\n",
    "final = distance(True,True,True,True,False)\n",
    "final = distance(True,True,True,False,True)\n",
    "final = distance(True,True,False,True,True)\n",
    "final = distance(True,False,True,True,True)\n",
    "final = distance(False,True,True,True,True)"
   ]
  }
 ],
 "metadata": {
  "kernelspec": {
   "display_name": "Python 3",
   "language": "python",
   "name": "python3"
  },
  "language_info": {
   "codemirror_mode": {
    "name": "ipython",
    "version": 3
   },
   "file_extension": ".py",
   "mimetype": "text/x-python",
   "name": "python",
   "nbconvert_exporter": "python",
   "pygments_lexer": "ipython3",
   "version": "3.7.3"
  }
 },
 "nbformat": 4,
 "nbformat_minor": 2
}
