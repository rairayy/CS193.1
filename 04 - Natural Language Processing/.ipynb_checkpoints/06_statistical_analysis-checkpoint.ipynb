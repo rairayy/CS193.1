{
 "cells": [
  {
   "cell_type": "markdown",
   "metadata": {},
   "source": [
    "# Statistical Analysis for Language Models\n",
    "Greetings, young ones. Due to popular demand, we are learning about several statistical analyses methods for assessing our language models. We'll take the case for two methods: text classification and sentiment analysis. We will be using the `Scikit-learn` and `Scipy` packages for this section. \n",
    "\n",
    "```pip3 install scikit-learn scipy```"
   ]
  },
  {
   "cell_type": "markdown",
   "metadata": {},
   "source": [
    "### Data preparation"
   ]
  },
  {
   "cell_type": "code",
   "execution_count": 17,
   "metadata": {},
   "outputs": [],
   "source": [
    "import pandas as pd\n",
    "import seaborn as sns\n",
    "import matplotlib.pyplot as plt\n",
    "import matplotlib.style as style\n",
    "import nltk\n",
    "from nltk.corpus import stopwords\n",
    "stopwords = stopwords.words('english')\n",
    "style.use('fivethirtyeight')\n",
    "from textblob import TextBlob"
   ]
  },
  {
   "cell_type": "code",
   "execution_count": 2,
   "metadata": {},
   "outputs": [],
   "source": [
    "def clean(texts):\n",
    "    \"\"\"\n",
    "    Replaces empty texts, replaces text with lower case characters,\n",
    "    remove special characters and RTs, remove leading and trailing\n",
    "    whitespaces, and remove stopwords.\n",
    "    \"\"\"\n",
    "    texts = texts.fillna('')\n",
    "    texts = texts.str.lower()\n",
    "    texts = texts.str.replace(r'(@[A-Za-z0-9]+)|([^0-9A-Za-z \\t])|(\\w+:\\/\\/\\S+)|rt', '')\n",
    "    texts = texts.str.replace(r'^\\s+|\\s+$', '') \n",
    "    texts = texts.apply(lambda x: ' '.join([w for w in x.split() if w not in (stopwords)]))\n",
    "    return texts"
   ]
  },
  {
   "cell_type": "code",
   "execution_count": 3,
   "metadata": {},
   "outputs": [],
   "source": [
    "def clean2(texts):\n",
    "    texts = texts.lower()\n",
    "    texts = texts.replace(r'(@[A-Za-z0-9]+)|([^0-9A-Za-z \\t])|(\\w+:\\/\\/\\S+)|rt', '')\n",
    "    texts = texts.replace(r'^\\s+|\\s+$', '') \n",
    "    texts = ' '.join([w for w in texts.split() if w not in (stopwords)])\n",
    "    return texts"
   ]
  },
  {
   "cell_type": "code",
   "execution_count": 4,
   "metadata": {},
   "outputs": [
    {
     "data": {
      "text/plain": [
       "0    Go until jurong point, crazy.. Available only ...\n",
       "1                        Ok lar... Joking wif u oni...\n",
       "2    Free entry in 2 a wkly comp to win FA Cup fina...\n",
       "3    U dun say so early hor... U c already then say...\n",
       "4    Nah I don't think he goes to usf, he lives aro...\n",
       "Name: message, dtype: object"
      ]
     },
     "execution_count": 4,
     "metadata": {},
     "output_type": "execute_result"
    }
   ],
   "source": [
    "# Import messages into dataframe\n",
    "messages = pd.read_csv('SMSSpamCollection', sep='\\t', names=['label', 'message'])\n",
    "texts = messages['message']\n",
    "labels = messages['label']\n",
    "texts.head()"
   ]
  },
  {
   "cell_type": "code",
   "execution_count": 11,
   "metadata": {},
   "outputs": [
    {
     "data": {
      "text/plain": [
       "0    go jurong point crazy available bugis n great ...\n",
       "1                              ok lar joking wif u oni\n",
       "2    free entry 2 wkly comp win fa cup final tkts 2...\n",
       "3                  u dun say early hor u c already say\n",
       "4          nah dont think goes usf lives around though\n",
       "Name: message, dtype: object"
      ]
     },
     "execution_count": 11,
     "metadata": {},
     "output_type": "execute_result"
    }
   ],
   "source": [
    "# Clean the texts \n",
    "clean_texts = clean(texts)\n",
    "clean_texts.head()"
   ]
  },
  {
   "cell_type": "markdown",
   "metadata": {},
   "source": [
    "---"
   ]
  },
  {
   "cell_type": "markdown",
   "metadata": {},
   "source": [
    "### Sentiment analysis"
   ]
  },
  {
   "cell_type": "code",
   "execution_count": 15,
   "metadata": {},
   "outputs": [],
   "source": [
    "def analyze_texts(texts):\n",
    "    \"\"\"Analyzes the sentiment polarity and subjectivity of text\"\"\"\n",
    "    sentiment = []\n",
    "    subjectivity = []\n",
    "    for text in texts:\n",
    "        blob = TextBlob(text)\n",
    "        sentiment.append(blob.polarity)\n",
    "        subjectivity.append(blob.subjectivity)\n",
    "    return sentiment, subjectivity"
   ]
  },
  {
   "cell_type": "code",
   "execution_count": 18,
   "metadata": {},
   "outputs": [
    {
     "data": {
      "text/html": [
       "<div>\n",
       "<style scoped>\n",
       "    .dataframe tbody tr th:only-of-type {\n",
       "        vertical-align: middle;\n",
       "    }\n",
       "\n",
       "    .dataframe tbody tr th {\n",
       "        vertical-align: top;\n",
       "    }\n",
       "\n",
       "    .dataframe thead th {\n",
       "        text-align: right;\n",
       "    }\n",
       "</style>\n",
       "<table border=\"1\" class=\"dataframe\">\n",
       "  <thead>\n",
       "    <tr style=\"text-align: right;\">\n",
       "      <th></th>\n",
       "      <th>label</th>\n",
       "      <th>message</th>\n",
       "      <th>sentiment</th>\n",
       "      <th>subjectivity</th>\n",
       "    </tr>\n",
       "  </thead>\n",
       "  <tbody>\n",
       "    <tr>\n",
       "      <th>0</th>\n",
       "      <td>ham</td>\n",
       "      <td>Go until jurong point, crazy.. Available only ...</td>\n",
       "      <td>0.2</td>\n",
       "      <td>0.683333</td>\n",
       "    </tr>\n",
       "    <tr>\n",
       "      <th>1</th>\n",
       "      <td>ham</td>\n",
       "      <td>Ok lar... Joking wif u oni...</td>\n",
       "      <td>0.5</td>\n",
       "      <td>0.500000</td>\n",
       "    </tr>\n",
       "    <tr>\n",
       "      <th>2</th>\n",
       "      <td>spam</td>\n",
       "      <td>Free entry in 2 a wkly comp to win FA Cup fina...</td>\n",
       "      <td>0.3</td>\n",
       "      <td>0.550000</td>\n",
       "    </tr>\n",
       "    <tr>\n",
       "      <th>3</th>\n",
       "      <td>ham</td>\n",
       "      <td>U dun say so early hor... U c already then say...</td>\n",
       "      <td>0.1</td>\n",
       "      <td>0.300000</td>\n",
       "    </tr>\n",
       "    <tr>\n",
       "      <th>4</th>\n",
       "      <td>ham</td>\n",
       "      <td>Nah I don't think he goes to usf, he lives aro...</td>\n",
       "      <td>0.0</td>\n",
       "      <td>0.000000</td>\n",
       "    </tr>\n",
       "  </tbody>\n",
       "</table>\n",
       "</div>"
      ],
      "text/plain": [
       "  label                                            message  sentiment  \\\n",
       "0   ham  Go until jurong point, crazy.. Available only ...        0.2   \n",
       "1   ham                      Ok lar... Joking wif u oni...        0.5   \n",
       "2  spam  Free entry in 2 a wkly comp to win FA Cup fina...        0.3   \n",
       "3   ham  U dun say so early hor... U c already then say...        0.1   \n",
       "4   ham  Nah I don't think he goes to usf, he lives aro...        0.0   \n",
       "\n",
       "   subjectivity  \n",
       "0      0.683333  \n",
       "1      0.500000  \n",
       "2      0.550000  \n",
       "3      0.300000  \n",
       "4      0.000000  "
      ]
     },
     "execution_count": 18,
     "metadata": {},
     "output_type": "execute_result"
    }
   ],
   "source": [
    "sentiment, subjectivity = analyze_texts(clean_texts)\n",
    "messages['sentiment'] = sentiment\n",
    "messages['subjectivity'] = subjectivity\n",
    "messages.head()"
   ]
  },
  {
   "cell_type": "code",
   "execution_count": 19,
   "metadata": {},
   "outputs": [
    {
     "data": {
      "text/plain": [
       "array([<matplotlib.axes._subplots.AxesSubplot object at 0x011564B0>,\n",
       "       <matplotlib.axes._subplots.AxesSubplot object at 0x0114C250>],\n",
       "      dtype=object)"
      ]
     },
     "execution_count": 19,
     "metadata": {},
     "output_type": "execute_result"
    },
    {
     "data": {
      "image/png": "[encoded data removed]",
      "text/plain": [
       "<Figure size 864x288 with 2 Axes>"
      ]
     },
     "metadata": {},
     "output_type": "display_data"
    }
   ],
   "source": [
    "messages.hist(column='sentiment', by='label', bins=20, figsize=(12,4))"
   ]
  },
  {
   "cell_type": "code",
   "execution_count": 22,
   "metadata": {},
   "outputs": [
    {
     "data": {
      "text/plain": [
       "array([<matplotlib.axes._subplots.AxesSubplot object at 0x010E8CD0>,\n",
       "       <matplotlib.axes._subplots.AxesSubplot object at 0x010C80B0>],\n",
       "      dtype=object)"
      ]
     },
     "execution_count": 22,
     "metadata": {},
     "output_type": "execute_result"
    },
    {
     "data": {
      "image/png": "[encoded data removed]",
      "text/plain": [
       "<Figure size 864x288 with 2 Axes>"
      ]
     },
     "metadata": {},
     "output_type": "display_data"
    }
   ],
   "source": [
    "messages.hist(column='subjectivity', by='label', bins=20, figsize=(12,4))"
   ]
  },
  {
   "cell_type": "code",
   "execution_count": 24,
   "metadata": {},
   "outputs": [
    {
     "data": {
      "text/plain": [
       "0.29299165728375454"
      ]
     },
     "execution_count": 24,
     "metadata": {},
     "output_type": "execute_result"
    }
   ],
   "source": [
    "messages[messages['label']=='ham']['sentiment'].std()"
   ]
  },
  {
   "cell_type": "code",
   "execution_count": 25,
   "metadata": {},
   "outputs": [
    {
     "data": {
      "text/plain": [
       "0.25988750671812033"
      ]
     },
     "execution_count": 25,
     "metadata": {},
     "output_type": "execute_result"
    }
   ],
   "source": [
    "messages[messages['label']=='spam']['sentiment'].std()"
   ]
  },
  {
   "cell_type": "markdown",
   "metadata": {},
   "source": [
    "---"
   ]
  },
  {
   "cell_type": "markdown",
   "metadata": {},
   "source": [
    "### Analysis of Variance (ANOVA) One-way F-test\n",
    "The `one-way ANOVA` tests whether two or more groups have the same population mean. This method produces the `F-statistic`, which measures the ratio of (1) the variance among the means of the group to (2) variance within samples of each group. The resulting significance level of the `f-statistic` is given by the `p-value`.\n",
    "\n",
    "A high `f-statistic` denotes significant differences between the group given a sufficiently small `p-value`. "
   ]
  },
  {
   "cell_type": "markdown",
   "metadata": {},
   "source": [
    "Sum of Squares (SS) Treatment: <img src='https://wikimedia.org/api/rest_v1/media/math/render/svg/2f35e5fe5c3f3645a5c57e692bdb603b2d2ec44c' width=200 />\n",
    "\n",
    "Sum of Squares (SS) Error: <img src='https://wikimedia.org/api/rest_v1/media/math/render/svg/bb1c0bc12c7ccd1b04669d756e871be102abc5ff' width=200/>\n",
    "\n",
    "Degrees of Freedom (DF) Treatment: <img src='https://wikimedia.org/api/rest_v1/media/math/render/svg/7bffa0987d2de0ca02563500330322b229b365c4' width=50/>\n",
    "\n",
    "Degrees of Freedom (DF) Error: <img src='https://wikimedia.org/api/rest_v1/media/math/render/svg/dddb46bd20f5f0e933f390e71129634ee02ac72b' width=50/>\n",
    "\n",
    "Mean Square (MS) Treatment: <img src='https://wikimedia.org/api/rest_v1/media/math/render/svg/df86cc9c9790734a1c81847694084c50a3920509' width=100/>\n",
    "\n",
    "Mean Square (MS) error: <img src='https://wikimedia.org/api/rest_v1/media/math/render/svg/9e5caea0b84b519fb150347f3f26b0b53cc5e2b8' width=75/>\n",
    "\n",
    "F-statistic: <img src='https://wikimedia.org/api/rest_v1/media/math/render/svg/8c9779d83311555c01cd1d35e0bd7b3aa32526b8' width=100/>"
   ]
  },
  {
   "cell_type": "code",
   "execution_count": 26,
   "metadata": {},
   "outputs": [],
   "source": [
    "from scipy.stats import f_oneway"
   ]
  },
  {
   "cell_type": "code",
   "execution_count": 27,
   "metadata": {},
   "outputs": [],
   "source": [
    "ham_sent = messages[messages['label'] == 'ham']['sentiment']\n",
    "spam_sent = messages[messages['label'] == 'spam']['sentiment']\n",
    "\n",
    "ham_subj = messages[messages['label'] == 'ham']['subjectivity']\n",
    "spam_subj = messages[messages['label'] == 'spam']['subjectivity']"
   ]
  },
  {
   "cell_type": "code",
   "execution_count": 28,
   "metadata": {},
   "outputs": [],
   "source": [
    "f_sent = f_oneway(ham_sent.sample(500), spam_sent.sample(500))\n",
    "f_subj = f_oneway(ham_subj.sample(500), spam_subj.sample(500))"
   ]
  },
  {
   "cell_type": "code",
   "execution_count": 33,
   "metadata": {},
   "outputs": [
    {
     "name": "stdout",
     "output_type": "stream",
     "text": [
      "Sentiment ANOVA, f-statistic: 14.47, p-value: 1.51e-04\n",
      "Subjectivity ANOVA, f-statistic: 10.87, p-value: 1.01e-03\n"
     ]
    }
   ],
   "source": [
    "print(\"Sentiment ANOVA, f-statistic: {0:.2f}, p-value: {1:.2e}\".format(f_sent[0], f_sent[1]))\n",
    "print(\"Subjectivity ANOVA, f-statistic: {0:.2f}, p-value: {1:.2e}\".format(f_subj[0], f_subj[1]))"
   ]
  },
  {
   "cell_type": "markdown",
   "metadata": {},
   "source": [
    "**p-value** - chance that we're wrong\n",
    "\n",
    "There are significant differences between the sentiment of ham SMS and the sentiment of spam sentiment.\n",
    "\n",
    "Standard p-value is 0.05. Tighter is 0.01"
   ]
  },
  {
   "cell_type": "markdown",
   "metadata": {},
   "source": [
    "### Kruskal-Wallis H-test\n",
    "The `Kruskal-Wallis H-test` is a non-parametric version of ANOVA. Instead of checking significant differences by analyzing the variance, the `H-test` measures the probability that the group samples were drawn from the same distribution. "
   ]
  },
  {
   "cell_type": "markdown",
   "metadata": {},
   "source": [
    "<img src='https://wikimedia.org/api/rest_v1/media/math/render/svg/c52009c6c21918d5389c27dc7e9d853a2462119e' width=300 />"
   ]
  },
  {
   "cell_type": "code",
   "execution_count": 34,
   "metadata": {},
   "outputs": [],
   "source": [
    "from scipy.stats import kruskal\n",
    "h_sent = kruskal(ham_sent.sample(500), spam_sent.sample(500))\n",
    "h_subj = kruskal(ham_subj.sample(500), spam_subj.sample(500))"
   ]
  },
  {
   "cell_type": "code",
   "execution_count": 35,
   "metadata": {},
   "outputs": [
    {
     "name": "stdout",
     "output_type": "stream",
     "text": [
      "Sentiment H-test, f-statistic: 30.55, p-value: 3.25e-08\n",
      "Subjectivity H-test, f-statistic: 12.43, p-value: 4.22e-04\n"
     ]
    }
   ],
   "source": [
    "print(\"Sentiment H-test, f-statistic: {0:.2f}, p-value: {1:.2e}\".format(h_sent[0], h_sent[1]))\n",
    "print(\"Subjectivity H-test, f-statistic: {0:.2f}, p-value: {1:.2e}\".format(h_subj[0], h_subj[1]))"
   ]
  },
  {
   "cell_type": "markdown",
   "metadata": {},
   "source": [
    "---"
   ]
  },
  {
   "cell_type": "markdown",
   "metadata": {},
   "source": [
    "### Text Vectorization"
   ]
  },
  {
   "cell_type": "code",
   "execution_count": 36,
   "metadata": {},
   "outputs": [],
   "source": [
    "from textblob import TextBlob\n",
    "from nltk.corpus import stopwords\n",
    "from sklearn.feature_extraction.text import TfidfVectorizer\n",
    "stopwords = stopwords.words('english')"
   ]
  },
  {
   "cell_type": "code",
   "execution_count": 37,
   "metadata": {},
   "outputs": [],
   "source": [
    "def text_to_tfidf(texts):\n",
    "    vectorizer = TfidfVectorizer(max_features=5000)\n",
    "    tfidf = vectorizer.fit_transform(texts)\n",
    "    return tfidf"
   ]
  },
  {
   "cell_type": "code",
   "execution_count": 38,
   "metadata": {},
   "outputs": [
    {
     "name": "stdout",
     "output_type": "stream",
     "text": [
      "TFIDF matrix shape: (5571, 5000)\n"
     ]
    }
   ],
   "source": [
    "# Get TFIDF matrix\n",
    "tfidf = text_to_tfidf(clean_texts)\n",
    "print('TFIDF matrix shape:', tfidf.toarray().shape)"
   ]
  },
  {
   "cell_type": "markdown",
   "metadata": {},
   "source": [
    "---"
   ]
  },
  {
   "cell_type": "markdown",
   "metadata": {},
   "source": [
    "### Text Classification"
   ]
  },
  {
   "cell_type": "markdown",
   "metadata": {},
   "source": [
    "To classify our texts into ham or spam, we will be using Naive Bayes classification models. These model apply [Bayes' theorem](https://betterexplained.com/articles/an-intuitive-and-short-explanation-of-bayes-theorem/) with a \"naive\" assumption that every pair of features has conditional independence between themselves given a classification. In our case, we can use this to probabilistically classify our texts. "
   ]
  },
  {
   "cell_type": "markdown",
   "metadata": {},
   "source": [
    "<img src='https://wikimedia.org/api/rest_v1/media/math/render/svg/52bd0ca5938da89d7f9bf388dc7edcbd546c118e' width=200/>\n",
    "<img src='https://wikimedia.org/api/rest_v1/media/math/render/svg/5ed52009429e5f3028302427a067822fdfc58059' width=200/>\n",
    "\n",
    "SVM, Random Forets, Neural Networks, convolutional neural network"
   ]
  },
  {
   "cell_type": "code",
   "execution_count": 39,
   "metadata": {},
   "outputs": [],
   "source": [
    "from sklearn.naive_bayes import GaussianNB"
   ]
  },
  {
   "cell_type": "code",
   "execution_count": 40,
   "metadata": {},
   "outputs": [],
   "source": [
    "model = GaussianNB().fit(tfidf.toarray(), labels)\n",
    "predictions = model.predict(tfidf.toarray())"
   ]
  },
  {
   "cell_type": "markdown",
   "metadata": {},
   "source": [
    "### Accuracy Evaluation Metrics"
   ]
  },
  {
   "cell_type": "markdown",
   "metadata": {},
   "source": [
    "For our classifier, we use the standard evaluation metrics of `accuracy`, `precision`, `recall`, and `F1 score` (not to be confused with the f-statistic).\n",
    "\n",
    "`Accuracy` is the number of correct predictions made divided by the total number of predictions. In general, accuracy alone is not a good indicator of performance. If there are imbalances in the distribution of classes (e.g. more ham than spam), predicting everything as belonging to one class will actually return high accuracy, demonstrating the accuracy paradox.\n",
    "\n",
    "We solve this by measuring precision and recall. `Precision` denotes the number of texts predicted correctly from those predicted as belonging to a given class. In other words, it is the ratio between true positive predictions divided by both true and false positive predictions. Meanwhile, `recall` denotes the number of texts predicted correctly from those that should have been predicted as beloning to a given class. Simply, it is all the true positives divided by the sum of true positives and false negatives. \n",
    "\n",
    "The `F1 score` is the harmonic mean between `precision` and `recall`. It denotes the performance of your model given precision and recall, making it a better metric compared to `accuracy`."
   ]
  },
  {
   "cell_type": "markdown",
   "metadata": {},
   "source": [
    "<img src='https://upload.wikimedia.org/wikipedia/commons/thumb/2/26/Precisionrecall.svg/700px-Precisionrecall.svg.png' width=400 />\n",
    "\n",
    "TP - message spam, predicted spam\n",
    "\n",
    "FP - message spam, predicted ham, you're sure that it's ham\n",
    "\n",
    "FN - message not spam, predicted as spam\n",
    "\n",
    "TN - message not ham, predicted as not spam"
   ]
  },
  {
   "cell_type": "code",
   "execution_count": 41,
   "metadata": {},
   "outputs": [],
   "source": [
    "from sklearn.metrics import classification_report"
   ]
  },
  {
   "cell_type": "code",
   "execution_count": 42,
   "metadata": {},
   "outputs": [
    {
     "name": "stdout",
     "output_type": "stream",
     "text": [
      "              precision    recall  f1-score   support\n",
      "\n",
      "         ham       1.00      0.90      0.95      4824\n",
      "        spam       0.61      1.00      0.75       747\n",
      "\n",
      "   micro avg       0.91      0.91      0.91      5571\n",
      "   macro avg       0.80      0.95      0.85      5571\n",
      "weighted avg       0.95      0.91      0.92      5571\n",
      "\n"
     ]
    }
   ],
   "source": [
    "print(classification_report(labels, predictions))"
   ]
  },
  {
   "cell_type": "markdown",
   "metadata": {},
   "source": [
    "---"
   ]
  },
  {
   "cell_type": "markdown",
   "metadata": {},
   "source": [
    "### Pipelining"
   ]
  },
  {
   "cell_type": "markdown",
   "metadata": {},
   "source": [
    "To hasten our process and lessen our code, we will make use of `Scikit-learn`'s pipelining features. To make sure our model isn't overfitting the data, we will split the dataset into training and testing sets. "
   ]
  },
  {
   "cell_type": "code",
   "execution_count": 303,
   "metadata": {},
   "outputs": [],
   "source": [
    "from sklearn.pipeline import Pipeline\n",
    "from sklearn.model_selection import train_test_split\n",
    "from sklearn.feature_extraction.text import CountVectorizer, TfidfTransformer"
   ]
  },
  {
   "cell_type": "code",
   "execution_count": 304,
   "metadata": {},
   "outputs": [],
   "source": [
    "text_train, text_test, label_train, label_test = train_test_split(texts, labels, test_size=0.2)"
   ]
  },
  {
   "cell_type": "code",
   "execution_count": 305,
   "metadata": {},
   "outputs": [],
   "source": [
    "pipeline = Pipeline([\n",
    "    ('count', CountVectorizer(analyzer=clean2)),  # strings to token integer counts\n",
    "    ('tfidf', TfidfTransformer()),  # integer counts to weighted TF-IDF scores\n",
    "    ('classifier', MultinomialNB()),  # train on TF-IDF vectors w/ Naive Bayes classifier\n",
    "])"
   ]
  },
  {
   "cell_type": "code",
   "execution_count": 306,
   "metadata": {},
   "outputs": [
    {
     "data": {
      "text/plain": [
       "Pipeline(memory=None,\n",
       "     steps=[('count', CountVectorizer(analyzer=<function clean2 at 0x1275a3158>, binary=False,\n",
       "        decode_error='strict', dtype=<class 'numpy.int64'>,\n",
       "        encoding='utf-8', input='content', lowercase=True, max_df=1.0,\n",
       "        max_features=None, min_df=1, ngram_range=(1, 1), preprocessor=None,\n",
       "   ...f=False, use_idf=True)), ('classifier', MultinomialNB(alpha=1.0, class_prior=None, fit_prior=True))])"
      ]
     },
     "execution_count": 306,
     "metadata": {},
     "output_type": "execute_result"
    }
   ],
   "source": [
    "pipeline.fit(text_train, label_train)"
   ]
  },
  {
   "cell_type": "code",
   "execution_count": 278,
   "metadata": {},
   "outputs": [
    {
     "name": "stdout",
     "output_type": "stream",
     "text": [
      "              precision    recall  f1-score   support\n",
      "\n",
      "         ham       1.00      0.97      0.98      1000\n",
      "        spam       0.80      0.97      0.88       115\n",
      "\n",
      "   micro avg       0.97      0.97      0.97      1115\n",
      "   macro avg       0.90      0.97      0.93      1115\n",
      "weighted avg       0.98      0.97      0.97      1115\n",
      "\n"
     ]
    }
   ],
   "source": [
    "prediction_test = pipeline.predict(text_test)\n",
    "print(classification_report(prediction_test, label_test))"
   ]
  }
 ],
 "metadata": {
  "kernelspec": {
   "display_name": "Python 3",
   "language": "python",
   "name": "python3"
  },
  "language_info": {
   "codemirror_mode": {
    "name": "ipython",
    "version": 3
   },
   "file_extension": ".py",
   "mimetype": "text/x-python",
   "name": "python",
   "nbconvert_exporter": "python",
   "pygments_lexer": "ipython3",
   "version": "3.6.2"
  }
 },
 "nbformat": 4,
 "nbformat_minor": 2
}
