{
 "cells": [
  {
   "cell_type": "code",
   "execution_count": 82,
   "metadata": {},
   "outputs": [],
   "source": [
    "import praw\n",
    "from psaw import PushshiftAPI\n",
    "import pandas as pd\n",
    "import pprint"
   ]
  },
  {
   "cell_type": "code",
   "execution_count": 85,
   "metadata": {},
   "outputs": [],
   "source": [
    "reddit = praw.Reddit(client_id='4hzFNLs3DXmWcA',\n",
    "                     client_secret='0JO0s7Nn8bolJYme3wjJmB_Zwm8',\n",
    "                     user_agent='script:4hzFNLs3DXmWcA:1.0.0 (by /u/SomeGuyNamedGuy)')\n",
    "api = PushshiftAPI(reddit)"
   ]
  },
  {
   "cell_type": "code",
   "execution_count": 3,
   "metadata": {},
   "outputs": [
    {
     "data": {
      "text/plain": [
       "Subreddit(display_name='Philippines+SafeSexPH')"
      ]
     },
     "execution_count": 3,
     "metadata": {},
     "output_type": "execute_result"
    }
   ],
   "source": [
    "subreddit_ph = reddit.subreddit('Philippines+SafeSexPH')\n",
    "subreddit_ph"
   ]
  },
  {
   "cell_type": "code",
   "execution_count": 183,
   "metadata": {},
   "outputs": [
    {
     "data": {
      "text/plain": [
       "'title:\"birth control\" OR selftext:\"birth control\" OR title:\"contraception\" OR selftext:\"contraception\" OR title:\"contraceptive\" OR selftext:\"contraceptive\" OR title:\"pills\" OR selftext:\"pills\" OR title:\"condom\" OR selftext:\"condom\" OR title:\"implant\" OR selftext:\"implant\" OR title:\"IUD\" OR selftext:\"IUD\"'"
      ]
     },
     "execution_count": 183,
     "metadata": {},
     "output_type": "execute_result"
    }
   ],
   "source": [
    "# Make a query string containing the keywords related to contraception that are included in the file\n",
    "keywords_file = open('contraception_keywords.txt', 'r')\n",
    "queries_list = [('title:\"' + word.replace('\\n', '') + '\" OR selftext:\"' + word.replace('\\n', '') + '\"') for word in keywords_file]\n",
    "queries1 = ' OR '.join(queries_list[:7])\n",
    "queries2 = ' OR '.join(queries_list[7:])\n",
    "queries1"
   ]
  },
  {
   "cell_type": "code",
   "execution_count": 203,
   "metadata": {},
   "outputs": [
    {
     "data": {
      "text/plain": [
       "<praw.models.listing.generator.ListingGenerator at 0x11579e2b0>"
      ]
     },
     "execution_count": 203,
     "metadata": {},
     "output_type": "execute_result"
    }
   ],
   "source": [
    "# Search posts in the two subreddits that contain the specified keywords\n",
    "post_list1 = subreddit_ph.search(query=queries1, limit=100)\n",
    "post_list1"
   ]
  },
  {
   "cell_type": "code",
   "execution_count": 207,
   "metadata": {},
   "outputs": [
    {
     "data": {
      "text/plain": [
       "<praw.models.listing.generator.ListingGenerator at 0x118620e10>"
      ]
     },
     "execution_count": 207,
     "metadata": {},
     "output_type": "execute_result"
    }
   ],
   "source": [
    "post_list2 = subreddit_ph.search(query=queries2, limit=100)\n",
    "post_list2"
   ]
  },
  {
   "cell_type": "code",
   "execution_count": 188,
   "metadata": {},
   "outputs": [],
   "source": [
    "#for post in post_list2:\n",
    "#   print('adsfasd')"
   ]
  },
  {
   "cell_type": "markdown",
   "metadata": {},
   "source": [
    "## Save as a DataFrame"
   ]
  },
  {
   "cell_type": "code",
   "execution_count": 204,
   "metadata": {},
   "outputs": [],
   "source": [
    "# Attributes per comment: author, body, depth, parent_id, id, score, subreddit_name_prefixed'\n",
    "df = pd.DataFrame(columns='id submission_title submission_text author body depth parent_id score subreddit_name_prefixed'.split())"
   ]
  },
  {
   "cell_type": "code",
   "execution_count": 205,
   "metadata": {},
   "outputs": [],
   "source": [
    "for post in post_list1:\n",
    "    post.comments.replace_more(limit=0)\n",
    "    comments = post.comments.list()\n",
    "    for comment in comments:\n",
    "        data = [comment.id, post.title, post.selftext, comment.author,\n",
    "               comment.body, comment.depth, comment.parent_id,\n",
    "               comment.score, comment.subreddit_name_prefixed]\n",
    "        df.loc[len(df)] = data"
   ]
  },
  {
   "cell_type": "code",
   "execution_count": 208,
   "metadata": {},
   "outputs": [],
   "source": [
    "for post in post_list2:\n",
    "    post.comments.replace_more(limit=0)\n",
    "    comments = post.comments.list()\n",
    "    for comment in comments:\n",
    "        data = [comment.id, post.title, post.selftext, comment.author,\n",
    "               comment.body, comment.depth, comment.parent_id,\n",
    "               comment.score, comment.subreddit_name_prefixed]\n",
    "        df.loc[len(df)] = data"
   ]
  },
  {
   "cell_type": "code",
   "execution_count": 210,
   "metadata": {},
   "outputs": [
    {
     "data": {
      "text/html": [
       "<div>\n",
       "<style scoped>\n",
       "    .dataframe tbody tr th:only-of-type {\n",
       "        vertical-align: middle;\n",
       "    }\n",
       "\n",
       "    .dataframe tbody tr th {\n",
       "        vertical-align: top;\n",
       "    }\n",
       "\n",
       "    .dataframe thead th {\n",
       "        text-align: right;\n",
       "    }\n",
       "</style>\n",
       "<table border=\"1\" class=\"dataframe\">\n",
       "  <thead>\n",
       "    <tr style=\"text-align: right;\">\n",
       "      <th></th>\n",
       "      <th>id</th>\n",
       "      <th>submission_title</th>\n",
       "      <th>submission_text</th>\n",
       "      <th>author</th>\n",
       "      <th>body</th>\n",
       "      <th>depth</th>\n",
       "      <th>parent_id</th>\n",
       "      <th>score</th>\n",
       "      <th>subreddit_name_prefixed</th>\n",
       "    </tr>\n",
       "  </thead>\n",
       "  <tbody>\n",
       "    <tr>\n",
       "      <th>3337</th>\n",
       "      <td>crdr3ky</td>\n",
       "      <td>Vasectomy, anyone tried it?</td>\n",
       "      <td></td>\n",
       "      <td>linux_n00by</td>\n",
       "      <td>for example i had a vasectomy, after 1 year i ...</td>\n",
       "      <td>9</td>\n",
       "      <td>t1_crd9jwh</td>\n",
       "      <td>1</td>\n",
       "      <td>r/Philippines</td>\n",
       "    </tr>\n",
       "    <tr>\n",
       "      <th>3338</th>\n",
       "      <td>c1pj4wx</td>\n",
       "      <td>Up for some RAEG? Here's a flyer on the RH Bil...</td>\n",
       "      <td>I'm not going to editorialize this although I'...</td>\n",
       "      <td>maxiph</td>\n",
       "      <td>I like how they quote the Document directly, a...</td>\n",
       "      <td>0</td>\n",
       "      <td>t3_gqkfa</td>\n",
       "      <td>4</td>\n",
       "      <td>r/Philippines</td>\n",
       "    </tr>\n",
       "    <tr>\n",
       "      <th>3339</th>\n",
       "      <td>c1pivme</td>\n",
       "      <td>Up for some RAEG? Here's a flyer on the RH Bil...</td>\n",
       "      <td>I'm not going to editorialize this although I'...</td>\n",
       "      <td>mentat</td>\n",
       "      <td>I really want to go over it point by point but...</td>\n",
       "      <td>0</td>\n",
       "      <td>t3_gqkfa</td>\n",
       "      <td>1</td>\n",
       "      <td>r/Philippines</td>\n",
       "    </tr>\n",
       "    <tr>\n",
       "      <th>3340</th>\n",
       "      <td>c1pj84d</td>\n",
       "      <td>Up for some RAEG? Here's a flyer on the RH Bil...</td>\n",
       "      <td>I'm not going to editorialize this although I'...</td>\n",
       "      <td>mentat</td>\n",
       "      <td>Fallacies, fallacies everywhere!</td>\n",
       "      <td>1</td>\n",
       "      <td>t1_c1pj4wx</td>\n",
       "      <td>1</td>\n",
       "      <td>r/Philippines</td>\n",
       "    </tr>\n",
       "    <tr>\n",
       "      <th>3341</th>\n",
       "      <td>c1pjc1r</td>\n",
       "      <td>Up for some RAEG? Here's a flyer on the RH Bil...</td>\n",
       "      <td>I'm not going to editorialize this although I'...</td>\n",
       "      <td>mives</td>\n",
       "      <td>Sadly, this tactic is most of the time effecti...</td>\n",
       "      <td>1</td>\n",
       "      <td>t1_c1pj4wx</td>\n",
       "      <td>1</td>\n",
       "      <td>r/Philippines</td>\n",
       "    </tr>\n",
       "  </tbody>\n",
       "</table>\n",
       "</div>"
      ],
      "text/plain": [
       "           id                                   submission_title  \\\n",
       "3337  crdr3ky                        Vasectomy, anyone tried it?   \n",
       "3338  c1pj4wx  Up for some RAEG? Here's a flyer on the RH Bil...   \n",
       "3339  c1pivme  Up for some RAEG? Here's a flyer on the RH Bil...   \n",
       "3340  c1pj84d  Up for some RAEG? Here's a flyer on the RH Bil...   \n",
       "3341  c1pjc1r  Up for some RAEG? Here's a flyer on the RH Bil...   \n",
       "\n",
       "                                        submission_text       author  \\\n",
       "3337                                                     linux_n00by   \n",
       "3338  I'm not going to editorialize this although I'...       maxiph   \n",
       "3339  I'm not going to editorialize this although I'...       mentat   \n",
       "3340  I'm not going to editorialize this although I'...       mentat   \n",
       "3341  I'm not going to editorialize this although I'...        mives   \n",
       "\n",
       "                                                   body depth   parent_id  \\\n",
       "3337  for example i had a vasectomy, after 1 year i ...     9  t1_crd9jwh   \n",
       "3338  I like how they quote the Document directly, a...     0    t3_gqkfa   \n",
       "3339  I really want to go over it point by point but...     0    t3_gqkfa   \n",
       "3340                   Fallacies, fallacies everywhere!     1  t1_c1pj4wx   \n",
       "3341  Sadly, this tactic is most of the time effecti...     1  t1_c1pj4wx   \n",
       "\n",
       "     score subreddit_name_prefixed  \n",
       "3337     1           r/Philippines  \n",
       "3338     4           r/Philippines  \n",
       "3339     1           r/Philippines  \n",
       "3340     1           r/Philippines  \n",
       "3341     1           r/Philippines  "
      ]
     },
     "execution_count": 210,
     "metadata": {},
     "output_type": "execute_result"
    }
   ],
   "source": [
    "df.tail()"
   ]
  },
  {
   "cell_type": "code",
   "execution_count": 211,
   "metadata": {},
   "outputs": [],
   "source": [
    "df.to_csv('dataset.csv', index=False)"
   ]
  },
  {
   "cell_type": "code",
   "execution_count": null,
   "metadata": {},
   "outputs": [],
   "source": []
  }
 ],
 "metadata": {
  "kernelspec": {
   "display_name": "Python 3",
   "language": "python",
   "name": "python3"
  },
  "language_info": {
   "codemirror_mode": {
    "name": "ipython",
    "version": 3
   },
   "file_extension": ".py",
   "mimetype": "text/x-python",
   "name": "python",
   "nbconvert_exporter": "python",
   "pygments_lexer": "ipython3",
   "version": "3.7.3"
  }
 },
 "nbformat": 4,
 "nbformat_minor": 2
}
