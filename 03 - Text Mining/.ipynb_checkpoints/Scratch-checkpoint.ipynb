{
 "cells": [
  {
   "cell_type": "code",
   "execution_count": null,
   "metadata": {},
   "outputs": [],
   "source": [
    "def distance2(orgs, fb, famil, unicorn, hs):\n",
    "    '''\n",
    "    Function for returing a dataframe that contains different kinds of edge weights\n",
    "    '''\n",
    "    dist_df = pd.DataFrame(index=np.arange(11), columns=np.arange(11))\n",
    "    dist_df.fillna(0,inplace=True)\n",
    "    for i in range(n):\n",
    "        for j in range(i+1,n):\n",
    "            if orgs:\n",
    "                dist_df[i][j] += orgs_df[i][j]\n",
    "                dist_df[j][i] += orgs_df[i][j]\n",
    "            if fb:\n",
    "                dist_df[i][j] += top_df[i][j]\n",
    "                dist_df[j][i] += top_df[i][j]\n",
    "            if famil:\n",
    "                dist_df[i][j] += famil_df[i][j]\n",
    "                dist_df[j][i] += famil_df[i][j]\n",
    "            if unicorn:\n",
    "                dist_df[i][j] += uu_df[i][j]\n",
    "                dist_df[j][i] += uu_df[i][j]\n",
    "            if hs:\n",
    "                dist_df[i][j] += hs_df[i][j]\n",
    "                dist_df[j][i] += hs_df[i][j]\n",
    "    dist_df.head()\n",
    "    return dist_df"
   ]
  }
 ],
 "metadata": {
  "kernelspec": {
   "display_name": "Python 3",
   "language": "python",
   "name": "python3"
  },
  "language_info": {
   "codemirror_mode": {
    "name": "ipython",
    "version": 3
   },
   "file_extension": ".py",
   "mimetype": "text/x-python",
   "name": "python",
   "nbconvert_exporter": "python",
   "pygments_lexer": "ipython3",
   "version": "3.7.3"
  }
 },
 "nbformat": 4,
 "nbformat_minor": 2
}
